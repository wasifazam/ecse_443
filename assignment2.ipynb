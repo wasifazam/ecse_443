{
 "cells": [
  {
   "cell_type": "markdown",
   "metadata": {
    "deletable": false,
    "editable": false,
    "nbgrader": {
     "cell_type": "markdown",
     "checksum": "22ff6fe412517a6e37b57ebab6c5a861",
     "grade": false,
     "grade_id": "cell-5f0083fe250f8a2b",
     "locked": true,
     "schema_version": 3,
     "solution": false,
     "task": false
    }
   },
   "source": [
    "<center><h1>ECSE 443: Introduction to Numerical Analysis in Electrical Engineering</center></h1>\n",
    "<center><h3>Assignment 2: Advanced Model Fitting</center></h3>\n",
    "<center><h3>Due: Monday, March 9th, 2020<sup>th</sup>, 2020 at 11:59pm EST on [myCourses](https://mycourses2.mcgill.ca/)</center></h3>\n",
    "<center><h3>Final weight: __15%__</center></h3>\n",
    "    \n",
    "    \n",
    "$\\newcommand{\\norm}[1]{\\left\\| #1 \\right\\|}$\n",
    "$\\newcommand{\\normsq}[1]{\\norm{#1}^2}$\n",
    "$\\newcommand{\\bstheta}{\\boldsymbol{\\theta}}$\n",
    "$\\newcommand{\\bsalpha}{\\boldsymbol{\\alpha}}$\n",
    "$\\newcommand{\\bsmu}{\\boldsymbol{\\mu}}$\n",
    "$\\newcommand{\\bssigma}{\\boldsymbol{\\sigma}}$\n",
    "$\\newcommand{\\bsSigma}{\\boldsymbol{\\Sigma}}$\n",
    "$\\newcommand{\\bfA}{\\mathbf{A}}$\n",
    "$\\newcommand{\\bfa}{\\mathbf{a}}$\n",
    "$\\newcommand{\\bfb}{\\mathbf{b}}$\n",
    "$\\newcommand{\\bfe}{\\mathbf{e}}$\n",
    "$\\newcommand{\\bfr}{\\mathbf{r}}$\n",
    "$\\newcommand{\\bfv}{\\mathbf{v}}$\n",
    "$\\newcommand{\\bfx}{\\mathbf{x}}$\n",
    "$\\newcommand{\\bfX}{\\mathbf{X}}$\n",
    "$\\newcommand{\\bfy}{\\mathbf{y}}$\n",
    "$\\newcommand{\\gaussian}{\\mathcal{N}}$\n",
    "$\\newcommand{\\cond}{\\operatorname{cond}}$\n",
    "$\\newcommand{\\argmin}[1]{\\underset{#1}{\\operatorname{argmin}}}$\n",
    "$\\newcommand{\\argmax}[1]{\\underset{#1}{\\operatorname{argmax}}}$\n",
    "$\\newcommand{\\pder}[1]{\\frac{\\partial}{\\partial #1}}$"
   ]
  },
  {
   "cell_type": "markdown",
   "metadata": {
    "deletable": false,
    "editable": false,
    "nbgrader": {
     "cell_type": "markdown",
     "checksum": "9a7d700cb776dbb499d49c47532190ab",
     "grade": false,
     "grade_id": "cell-ce7c1b83be080c03",
     "locked": true,
     "schema_version": 3,
     "solution": false,
     "task": false
    }
   },
   "source": [
    "<u style=\"font-size:16pt;\">Assignment submission process</u>\n",
    "\n",
    "Download and modify the `ipynb` notebook we provide on myCourses and submit your modified file, renamed according to your student ID, as\n",
    "\n",
    "<center><font color='red'>`[YourStudentID]`.ipynb</font></center>\n",
    "\n",
    "For example, if your id is **234567890**, your submission filename should be **234567890.ipynb**.\n",
    "\n",
    "\n",
    "<div class=\"alert alert-warning\" role=\"alert\">\n",
    "     Note that every time you submit a new file, your previous submission will be overwritten.  <b>All submissions must be made using myCourses</b>. You can submit as many times as you like, but we will only grade the last submission.\n",
    "</div>\n",
    "\n",
    "<u style=\"font-size:16pt;\">Late policy & Python `import` statements</u>\n",
    "\n",
    "This assignment is to be completed individually. \n",
    "\n",
    "<div class=\"alert alert-danger\" role=\"alert\">\n",
    "     You will lose <b>5% per hour</b>. past the deadline, up to a maximum of -100%. \n",
    "</div>\n",
    "\n",
    "We provide all import statements required to complete the assignment.\n",
    "\n",
    "<div class=\"alert alert-danger\" role=\"alert\">\n",
    "    You must not use any <code>import</code>s other than the ones we provide.\n",
    "    Doing so will result in a score of <b>zero (0%)</b> on the assignment.\n",
    "</div>"
   ]
  },
  {
   "cell_type": "markdown",
   "metadata": {
    "deletable": false,
    "editable": false,
    "nbgrader": {
     "cell_type": "markdown",
     "checksum": "26a5eaa80e7833c425cb89fe0d5d7456",
     "grade": false,
     "grade_id": "cell-a61a158d33666df3",
     "locked": true,
     "schema_version": 3,
     "solution": false,
     "task": false
    }
   },
   "source": [
    "# Polynomial regression with MLE and MAP [40%]"
   ]
  },
  {
   "cell_type": "markdown",
   "metadata": {
    "deletable": false,
    "editable": false,
    "nbgrader": {
     "cell_type": "markdown",
     "checksum": "4542dac9f7eef00446931d52048a79b2",
     "grade": false,
     "grade_id": "cell-47fffe6d7dd92827",
     "locked": true,
     "schema_version": 3,
     "solution": false,
     "task": false
    }
   },
   "source": [
    "You will implement a *maximum likelihood estimator* (MLE) and *maximum a posteriori* (MAP) estimator. You will test both on a *polynomial regression* problem. \n",
    "\n",
    "![Comparing an overdetermined degree-7 polynomial fit using linear least squares (LLS), MLE and MAP.](./poly_reg.png) \n",
    "\n",
    "<div class=\"alert alert-info\" role=\"alert\">\n",
    "    <b>Run</b> the following cell in the Jupyter Notebook to include the required modules for this task.\n",
    "</div>"
   ]
  },
  {
   "cell_type": "code",
   "execution_count": 1,
   "metadata": {
    "deletable": false,
    "editable": false,
    "nbgrader": {
     "cell_type": "code",
     "checksum": "78b85d810cb9eae50c94f2cbab550ed0",
     "grade": false,
     "grade_id": "cell-09dead4260449ed0",
     "locked": true,
     "schema_version": 3,
     "solution": false,
     "task": false
    }
   },
   "outputs": [],
   "source": [
    "%matplotlib inline\n",
    "\n",
    "from numpy import array, poly1d, polyval, linspace, zeros, sum, sort, absolute\n",
    "from numpy.random import uniform,normal, seed\n",
    "from numpy.linalg import cond, norm, solve, lstsq\n",
    "import matplotlib.pyplot as plt"
   ]
  },
  {
   "cell_type": "markdown",
   "metadata": {
    "deletable": false,
    "editable": false,
    "nbgrader": {
     "cell_type": "markdown",
     "checksum": "c2104ad9a2de5a9ac13fb64f4e08d651",
     "grade": false,
     "grade_id": "cell-66a116736d6ad2d8",
     "locked": true,
     "schema_version": 3,
     "solution": false,
     "task": false
    }
   },
   "source": [
    "## Polynomial regression\n",
    "\n",
    "The overdetermined degree-$m$ polynomial regression problem -- with an explicit corruption/noise model on the data -- seeks an interpolant across $n$ data samples $(x_i, y_i)$ that satisfies:\n",
    "$$\n",
    "y_i = \\sum_{j=0}^{m}\\theta_j x_i^j + \\epsilon_i  \\quad (i = 1, \\ldots, n)\n",
    "$$\n",
    "where:\n",
    "* $x_i$ is the *independent coordinate* of sample $i$, with $\\bfx = \\{x_0 \\ldots x_{n-1} \\}$,\n",
    "* $y_i$ is the *dependent coordinate* of sample $i$, with $\\bfy = \\{y_0 \\ldots y_{n-1} \\}$,\n",
    "* $\\epsilon_i \\sim \\mathcal{N}(\\mu, \\sigma^2)$ is standard *Gaussian noise* corrupting the output $y_i$, and\n",
    "* $\\bstheta = \\{\\theta_0, \\theta_1 ,\\dots, \\theta_{m}\\}$ are the $p=m+1$ polynomial coefficients we are solving for.\n",
    "\n",
    "Note that one common way of rewriting this model is by \"folding in\" the deterministic component into the mean of the stochastic component, as:\n",
    "\n",
    "$$\n",
    "y_i \\sim \\mathcal{N}\\left(\\mu+ \\sum_{j=0}^{m}\\theta_j x_i^j, \\sigma^2\\right)~.\n",
    "$$\n",
    "\n",
    "<div class=\"alert alert-info\" role=\"alert\">\n",
    "    <b>Run</b> the following cell to generate noisy polynomial data to test your estimator on\n",
    "</div>"
   ]
  },
  {
   "cell_type": "code",
   "execution_count": 7,
   "metadata": {
    "deletable": false,
    "editable": false,
    "nbgrader": {
     "cell_type": "code",
     "checksum": "35be9113604f20ab195b3ac47e721068",
     "grade": false,
     "grade_id": "cell-9392143f4658f602",
     "locked": true,
     "schema_version": 3,
     "solution": false,
     "task": false
    }
   },
   "outputs": [
    {
     "data": {
      "image/png": "[encoded data removed]",
      "text/plain": [
       "<Figure size 720x720 with 1 Axes>"
      ]
     },
     "metadata": {
      "needs_background": "light"
     },
     "output_type": "display_data"
    }
   ],
   "source": [
    "seed(0)\n",
    "\n",
    "n = 40 # Number of samples\n",
    "m = 7  # Degree of the polynomial\n",
    "p = m+1  # Number of parameters (degree of the polynomial plus 1)\n",
    "\n",
    "# Generate a random, degree-m polynomial:\n",
    "# sample the polynomial parameters from a Gaussian\n",
    "alpha = 1. # Mean of the polynomial parameters\n",
    "beta = 2.  # Standard deviation of the polynomial parameters\n",
    "theta = normal(alpha, beta, p)\n",
    "poly = poly1d(theta[::-1])\n",
    "\n",
    "# We model the sample noise as a Gaussian distribution \n",
    "mu = -10.   # Mean of the noise distribution\n",
    "sigma = 10. # Standard deviation of the noise distribution\n",
    "epsilon = normal(mu, sigma, n)\n",
    "\n",
    "# Generate the n independent variables\n",
    "x = linspace(-1.5, 1.5, n)\n",
    "\n",
    "# Evaluate the polynomial at the independent variables\n",
    "yp = poly(x)  \n",
    "\n",
    "# Generate the dependent variables by adding the noise to the exact polynomial evaluations\n",
    "y = yp + epsilon \n",
    "\n",
    "# Plot samples and the ground truth polynomial\n",
    "plt.figure(figsize=(10,10))\n",
    "plt.scatter(x, y, c='g', label='samples: $(x_i, y_i)$')\n",
    "plt.plot(x, yp, label='$Polynomial: p_{{ {0} }}(x)$'.format(m))\n",
    "plt.xlabel('$x$')\n",
    "plt.ylabel('$y$')\n",
    "plt.title('Samples and exact polynomial curve')\n",
    "plt.legend()\n",
    "plt.show()"
   ]
  },
  {
   "cell_type": "markdown",
   "metadata": {
    "deletable": false,
    "editable": false,
    "nbgrader": {
     "cell_type": "markdown",
     "checksum": "2b1203b2da97bc7ea3e86ccd5c0f966d",
     "grade": false,
     "grade_id": "cell-599bcd02412b5463",
     "locked": true,
     "schema_version": 3,
     "solution": false,
     "task": false
    }
   },
   "source": [
    "<!--\n",
    "\n",
    "## Probabilistic description\n",
    "Like we observed earlier on, an alternative description to our polynomial regression problem is the probabilistic description \n",
    "where we treat the dependent variable $y$ as being randomly sampled from a normal distribution with \n",
    "mean $\\mu+\\sum_{l=0}^{m-1}\\theta_l x_k^l$ and variance $\\sigma^2$, e.g.\n",
    "\n",
    "$$\n",
    "y_i \\sim \\mathcal{N}\\left(\\mu+\\sum_{l=0}^{m-1}\\theta_l x_k^l,\\sigma^2\\right) \\quad (i = 0, \\ldots, n-1)\n",
    "$$\n",
    "\n",
    "From the definition of the probability densitity of the normal distribution, we have:\n",
    "\n",
    "$$\n",
    "p(\\bfy \\mid \\bfx, \\bstheta)  := p\\left(y_i \\,\\middle|\\, \\mu + \\sum_{l=0}^{m-1}\\theta_l x_k^l, \\sigma^2\\right) = \n",
    "\\frac{1}{\\sqrt{2\\pi\\sigma^2}} \\exp{ \\left(-\\frac{1}{2\\sigma^2}\\left[y_k - \\mu - \\sum_{l=0}^{m-1}\\theta_l x_k^l\\right]^2\\right)}\n",
    "$$\n",
    "\n",
    "Given the observed data $(\\bfx, \\bfy)$, and ignoring $\\mu$ and $\\sigma^2$, we can then model the parameters $\\bstheta$ as \n",
    "a density function which we can split up according to *Bayes theorem*:\n",
    "\n",
    "$$\n",
    "p(\\bstheta \\mid \\bfy, \\bfx) = \\frac{p(\\bfy \\mid \\bfx, \\bstheta)p(\\bstheta)}{p(\\bfy \\mid \\bfx)}\n",
    "$$\n",
    "\n",
    "where:\n",
    "\n",
    "* $p(\\bstheta \\mid \\bfy, \\bfx)$ is the *posterior density* which is our belief of parameters $\\bstheta$ after taking the observed data $(\\bfx, \\bfy)$ into account.\n",
    "* $p(\\bfy \\mid \\bfx, \\bstheta)$ is the *likelihood function* which is the probability density of the normal distribution $y \\sim \\mathcal{N}(\\theta_0 + \\theta_1 x_i + \\dots + \\theta_{m-1} x_i^{m-1}, \\sigma^2) $ described above.\n",
    "* $p(\\bstheta)$ is the *prior density* of $\\bstheta$, which captures our initial belief about the parameters $\\bstheta$ before we observed any data. Note that we assume that $\\bstheta$ is independent of $\\bfx$ and that $p(\\bstheta \\mid \\bfx) = p(\\bstheta)$.\n",
    "* $p(\\bfy \\mid \\bfx)$ is the *marginal likelihood* of the data where $\\bstheta$ has been marginalized out according to $p(\\bfy \\mid \\bfx) = \\int_{\\bstheta} p(\\bfy \\mid \\bfx, \\bstheta) p(\\bstheta) d\\bstheta$.\n",
    "\n",
    "-->\n",
    "\n",
    "## Maximum likelihood estimation (MLE)  [20%]\n",
    "\n",
    "You will implement a MLE for the polynomial parameters that maximize the data's likelihood function:\n",
    "$$\n",
    "\\bstheta_{\\text{MLE}} := \\argmax{\\bstheta}\\, p(\\bfy | \\bfx, \\bstheta)~,\n",
    "$$\n",
    "where -- assuming the samples $(x_i, y_i)$ are drawn i.i.d. -- the likelihood function can be expressed using the normal distribution's density, as\n",
    "$$\n",
    "p(\\bfy | \\bfx, \\bstheta) = \\prod_{i=0}^{n-1} p(y_i | x_i, \\bstheta) = \n",
    "\\prod_{i=0}^{n-1} \\frac{1}{\\sqrt{2\\pi\\sigma^2}} \\exp{ \\left( -\\frac{1}{2\\sigma^2}\\left[y_i - \\mu - \\sum_{j=0}^{m}\\theta_j x_i^j\\right]^2\\right)}~.\n",
    "$$\n",
    "\n",
    "Taking the log of the likelihood before taking the argmax -- which is a valid transformation under argmax, given log's monotonicity -- yields:\n",
    "$$\n",
    "\\log(p(\\bfy | \\bfx, \\bstheta)) = \\log\\left(\\prod_{i=0}^{n-1} p(y_i | x_i, \\bstheta)\\right) = n(1 - \\log(\\sqrt{2\\pi\\sigma^2})) -  \\frac{1}{2\\sigma^2}  \\sum_{i=0}^{n-1} \\left[y_i - \\mu - \\sum_{j=0}^{m}\\theta_j x_i^j\\right]^2\n",
    "$$\n",
    "which we optimize for by setting the derivatives w.r.t. the parameters to zero,\n",
    "$$ \n",
    "\\pder{\\theta_k}\\log(p(\\bfy | \\bfx, \\bstheta)) = \\frac{1}{\\sigma^2} \\sum_{i=0}^{n-1} x_i^k\\left[y_i - \\mu - \\sum_{j=0}^{m}\\theta_j x_i^j\\right] = 0~,\n",
    "$$\n",
    "before combining these partial derivatives to form a linear system $\\bfA\\, \\bstheta_{\\text{MLE}} = \\bfb$, with\n",
    "$$\n",
    "A_{i,j} = \\sum_{s=0}^{n-1} x_s^{i+j}\n",
    "\\mbox{ and } \n",
    "b_{i} = \\sum_{s=0}^{n-1} x_s^i (y_s - \\mu)~.\n",
    "$$\n",
    "Solving this system yields the MLE for $\\bstheta_{\\text{MLE}}$.\n",
    "\n",
    "<div class=\"alert alert-info\" role=\"alert\"> \n",
    "    <b style=\"color:green;\">&#9745;</b> Your first task is to \n",
    "    <b>complete</b> the implementation of a function that builds and returns the aforementioned linear system for the MLE, in the cell below.\n",
    "</div>"
   ]
  },
  {
   "cell_type": "code",
   "execution_count": 16,
   "metadata": {
    "deletable": false,
    "nbgrader": {
     "cell_type": "code",
     "checksum": "2032ad6a9bac237df38d138f49bca693",
     "grade": false,
     "grade_id": "cell-8ebe4cc5ad3f2276",
     "locked": false,
     "schema_version": 3,
     "solution": true,
     "task": false
    }
   },
   "outputs": [],
   "source": [
    "def PolRegMLE(p, mu, x, y ):\n",
    "    \"\"\" Function that computes the MLE linear system matrix A and vector b \n",
    "    \n",
    "    Parameters: \n",
    "    p (int): number of parameters\n",
    "    mu (float): mean of the assumed Gaussian noise\n",
    "    x (np.array(n,)): independent sample variables\n",
    "    y (np.array(n,)): dependent sample variables\n",
    "    \n",
    "    Returns: \n",
    "    A, b (tuple(np.array((p,p)), np.array(p))), \n",
    "    Return the matrix A and vector b of the linear system\n",
    "    \n",
    "    \"\"\"\n",
    "    A = zeros((p,p))\n",
    "    b = zeros(p)\n",
    "\n",
    "    # YOUR CODE HERE\n",
    "    for i in range(p):\n",
    "        for k in range(n):\n",
    "            b[i] += (y[k] - mu)*x[k]**i        #Taking s = k\n",
    "          \n",
    "    for i in range(p):\n",
    "        for j in range(p):\n",
    "            for k in range(n):\n",
    "                A[i, j] += x[k]**(i + j)       #Taking s = k\n",
    "\n",
    "    #raise NotImplementedError()\n",
    "    \n",
    "    return A, b"
   ]
  },
  {
   "cell_type": "markdown",
   "metadata": {
    "deletable": false,
    "editable": false,
    "nbgrader": {
     "cell_type": "markdown",
     "checksum": "ecb4307196692e4e502663a600bd220b",
     "grade": false,
     "grade_id": "cell-8ad32344ea7c0e3e",
     "locked": true,
     "schema_version": 3,
     "solution": false,
     "task": false
    }
   },
   "source": [
    "<div class=\"alert alert-info\" role=\"alert\">\n",
    "    <b>Run</b> the following cell to test your MLE linear system construction.\n",
    "</div>"
   ]
  },
  {
   "cell_type": "code",
   "execution_count": 17,
   "metadata": {
    "deletable": false,
    "editable": false,
    "nbgrader": {
     "cell_type": "code",
     "checksum": "9ae30ef77853ff6d8135b3efdaaafdc2",
     "grade": true,
     "grade_id": "cell-529004996ddc6ead",
     "locked": true,
     "points": 20,
     "schema_version": 3,
     "solution": false,
     "task": false
    }
   },
   "outputs": [
    {
     "name": "stdout",
     "output_type": "stream",
     "text": [
      "Atest =  [[40.          8.64039939  2.5674804 ]\n",
      " [ 8.64039939  2.5674804   0.84171905]\n",
      " [ 2.5674804   0.84171905  0.28762881]]\n",
      "btest =  [51.23102956 12.05414574  3.69814514]\n",
      "thetatest =  [0.99872084 1.00166925 1.00030199]\n",
      "thetaMLEtest =  [1.00319937 0.9980426  1.0007962 ]\n",
      "Nice parameters!\n"
     ]
    }
   ],
   "source": [
    "ntest = 100\n",
    "ptest = 3\n",
    "mutest = 2\n",
    "sigmatest =0.001\n",
    "alphatest = 1\n",
    "betatest = 0.001\n",
    "xtest = sort(uniform(0, 1, ntest))\n",
    "thetatest = normal(alphatest,betatest, ptest)\n",
    "polytest = poly1d(thetatest)\n",
    "ytest = polytest(xtest) + normal(mutest, sigmatest, ntest)\n",
    "\n",
    "Atest, btest = PolRegMLE(ptest, mutest, xtest, ytest)\n",
    "thetaMLEtest = solve(Atest,btest)[::-1]\n",
    "\n",
    "print('Atest = ', Atest)\n",
    "print('btest = ', btest)\n",
    "print('thetatest = ', thetatest)\n",
    "print('thetaMLEtest = ', thetaMLEtest)\n",
    "\n",
    "try:\n",
    "    assert((absolute(thetaMLEtest - thetatest) < 1e-2).all())        \n",
    "    print('Nice parameters!')\n",
    "except:\n",
    "    raise Exception(\"These are not the parameters you are looking for...\")"
   ]
  },
  {
   "cell_type": "markdown",
   "metadata": {
    "deletable": false,
    "editable": false,
    "nbgrader": {
     "cell_type": "markdown",
     "checksum": "108a736bef03855d15ea8458966bd2b8",
     "grade": false,
     "grade_id": "cell-43ba65c6007438b3",
     "locked": true,
     "schema_version": 3,
     "solution": false,
     "task": false
    }
   },
   "source": [
    "## Maximum a posteriori (MAP) [20%]\n",
    "\n",
    "\n",
    "Maximum a posteriori (MAP) estimators consider an additional prior over the parameters and solve for parameters $\\bstheta_{\\text{MAP}}$ that maximize the (log) posterior distribution of the parameters, given the data:\n",
    "$$\n",
    "\\bstheta_{\\text{MAP}} := \\argmax{\\bstheta}\\, p(\\bstheta | \\bfy, \\bfx) = \\argmax{\\bstheta}\\, p(\\bfy | \\bfx, \\bstheta) \\, p(\\bstheta)~.\n",
    "$$\n",
    "\n",
    "In our polynomial regression problem setting, we will assume that the $\\bstheta$ are drawn i.i.d from a normal distribution \n",
    "$\\mathcal{N}(\\alpha, \\beta^2)$, so their joint prior probability density is given by:\n",
    "$$\n",
    "p(\\bstheta) = \\prod_{k=0}^{m} p(\\theta_k) = \\prod_{k=0}^{m}\\frac{1}{\\sqrt{2\\pi\\beta^2}}  \\exp{ \\left( -\\frac{1}{2\\beta^2}(\\theta_k- \\alpha)^2\\right)}~.\n",
    "$$\n",
    "\n",
    "<!--\n",
    "If we multiply this prior against the likelihood function, we get :\n",
    "\n",
    "$$\n",
    "p(\\bfy | \\bfx, \\bstheta)p(\\bstheta) = \n",
    "\\prod_{l=0}^{m-1} \\frac{1}{\\sqrt{2\\pi\\beta^2}} \\exp{ \\left( -\\frac{1}{2\\beta^2}(\\theta_l- \\alpha)^2\\right)} \\prod_{k=0}^{n-1} \\frac{1}{\\sqrt{2\\pi\\sigma^2}} \\exp{ \\left( -\\frac{1}{2\\sigma^2}\\left[y_k - \\mu - \\sum_{l=0}^{m-1}\\theta_l x_k^l\\right]^2\\right)}\n",
    "$$\n",
    "\n",
    "Likewise to MLE, computing the logarihm of this function yield:\n",
    "\n",
    "\n",
    "Taking the log of the product of the likelihood and the prior (which is proportional to the posterior) yields\n",
    "$$\n",
    "\\log\\left(\\prod_{k=0}^{n-1} p(y_k | x_k, \\bstheta)\\right) = n + m - n\\log(\\sqrt{2\\pi\\sigma^2}) - m\\log(\\sqrt{2\\pi\\beta^2}) - \\frac{1}{2\\sigma^2}  \\sum_{k=0}^{n-1} \\left[y_k - \\mu - \\sum_{l=0}^{m-1}\\theta_l x_k^l\\right]^2 - \\frac{1}{2\\beta^2} \\sum_{l=0}^{m-1}(\\theta_l- \\alpha)^2\n",
    "$$\n",
    "\n",
    "We can then find the maximum for this function by finding where the derivative of this function with respect to its parameters becomes 0. \n",
    "-->\n",
    "\n",
    "The derivative with respect to each parameter $\\theta_k$ of $\\log(p(\\bfy | \\bfx, \\bstheta) \\, p(\\bstheta)) \\equiv l(\\bstheta | \\bfx, \\bfy)$ is\n",
    "$$ \n",
    "\\pder{\\theta_k}l(\\bstheta | \\bfx, \\bfy) = \\frac{1}{\\sigma^2} \\sum_{i=0}^{n-1} x_i^k\\left[y_i - \\mu - \\sum_{j=0}^{m}\\theta_j x_i^j\\right]  - \\frac{1}{\\beta^2}(\\theta_k- \\alpha)~,\n",
    "$$\n",
    "<!--\n",
    "this is equal to zero if and only if:\n",
    "\n",
    "$$\n",
    "\\theta_0\\sum_{k=0}^{n-1} x_k^j + \\theta_1\\sum_{k=0}^{n-1}  x_k^{j+1}+ \\dots + \\theta_j\\left(\\sum_{k=0}^{n-1}x_k^{2j} + \\frac{\\sigma^2}{\\beta^2}\\right) + \\dots + \\theta_{m-1}\\sum_{k=0}^{n-1} x_k^{m+j-1} = \\sum_{k=0}^{n-1} x_k^j (y_k - \\mu ) + \\alpha \\frac{\\sigma^2}{\\beta^2}\n",
    "$$\n",
    "-->\n",
    "and we combine these partials together to form a linear system $\\bfA \\bstheta_{\\text{MAP}} = \\bfb$ that we can solve for the MAP estimate of the parameters, where\n",
    "$$\n",
    "A_{i,j} = \\begin{cases} \n",
    "\\displaystyle\\sum_{s=0}^{n-1} x_s^{i+j} + \\frac{\\sigma^2}{\\beta^2} & \\text{ if } i = j \\\\\n",
    "\\displaystyle\\sum_{s=0}^{n-1} x_s^{i+j} & \\text{ otherwise }\n",
    "\\end{cases}\n",
    "\\mbox{    and   }\n",
    "b_{i} = \\sum_{s=0}^{n-1} x_s^i (y_s - \\mu) + \\alpha \\frac{\\sigma^2}{\\beta^2}~.\n",
    "$$\n",
    "\n",
    "<div class=\"alert alert-info\" role=\"alert\"> \n",
    "    <b style=\"color:green;\">&#9745;</b> the implementation of the MAP linear system construction, in the cell below.\n",
    "</div>"
   ]
  },
  {
   "cell_type": "code",
   "execution_count": 5,
   "metadata": {
    "deletable": false,
    "nbgrader": {
     "cell_type": "code",
     "checksum": "9959afa81d9728886e1bddacb2e264a5",
     "grade": false,
     "grade_id": "cell-839b6a2958cce8fb",
     "locked": false,
     "schema_version": 3,
     "solution": true,
     "task": false
    }
   },
   "outputs": [],
   "source": [
    "def PolRegMAP(p, mu, sigma, alpha, beta, x, y):\n",
    "    \"\"\" Function that computes the MAP linear system matrix A and vector b \n",
    "        \n",
    "    Parameters: \n",
    "    p (int): number of parameters\n",
    "    mu (float): mean of the Gaussian noise\n",
    "    sigma (float): standard deviation of the Gaussian noise\n",
    "    alpha (float): mean of the parameters' prior\n",
    "    beta (float): standard deviation of the parameters' prior\n",
    "    x (np.array(n,)): independent sample variables\n",
    "    y (np.array(n,)): dependent sample variables\n",
    "\n",
    "    Returns: \n",
    "    A, b (tuple(np.array((p,p)), np.array(p))), \n",
    "    Return the matrix A and vector b of the MAP linear system\n",
    "    \"\"\"\n",
    "    \n",
    "    A = zeros((p,p))\n",
    "    b = zeros(p)\n",
    "    \n",
    "    # YOUR CODE HERE\n",
    "    for i in range(p):\n",
    "        b[i] += alpha*(sigma/beta)**2\n",
    "        for k in range(n):\n",
    "            b[i] += (y[k] - mu)*x[k]**i\n",
    "    \n",
    "    for i in range(p):\n",
    "        for j in range(p):\n",
    "            if i == j:\n",
    "                A[i, i] += (sigma/beta)**2\n",
    "            for k in range(n):\n",
    "                A[i, j] += x[k]**(i + j)\n",
    "    \n",
    "    #raise NotImplementedError()\n",
    "    \n",
    "    return A, b\n"
   ]
  },
  {
   "cell_type": "markdown",
   "metadata": {
    "deletable": false,
    "editable": false,
    "nbgrader": {
     "cell_type": "markdown",
     "checksum": "7122a5f643fc2c5f51956185e5ee88f0",
     "grade": false,
     "grade_id": "cell-b2917be94ca87ca3",
     "locked": true,
     "schema_version": 3,
     "solution": false,
     "task": false
    }
   },
   "source": [
    "<div class=\"alert alert-info\" role=\"alert\">\n",
    "    <b>Run</b> the following cell to test your MAP linear system construction.\n",
    "</div>"
   ]
  },
  {
   "cell_type": "code",
   "execution_count": 6,
   "metadata": {
    "deletable": false,
    "editable": false,
    "nbgrader": {
     "cell_type": "code",
     "checksum": "91b8f83519104ac49239127917347f7c",
     "grade": true,
     "grade_id": "cell-2959c4a269270a40",
     "locked": true,
     "points": 20,
     "schema_version": 3,
     "solution": false,
     "task": false
    }
   },
   "outputs": [
    {
     "name": "stdout",
     "output_type": "stream",
     "text": [
      "Atest =  [[41.          7.26119418  1.78404613]\n",
      " [ 7.26119418  2.78404613  0.49564758]\n",
      " [ 1.78404613  0.49564758  1.14678132]]\n",
      "btest =  [50.07714193 10.54681193  3.42790003]\n",
      "thetatest =  [1.00023218 0.9998663  1.00107774]\n",
      "thetaMAPtest =  [1.00000379 1.00018257 1.00074559]\n",
      "Your system... it's perfect!\n"
     ]
    }
   ],
   "source": [
    "ntest = 100\n",
    "ptest = 3\n",
    "mutest = 2\n",
    "sigmatest =0.001\n",
    "alphatest = 1\n",
    "betatest = 0.001\n",
    "xtest = sort(uniform(0, 1, ntest))\n",
    "thetatest = normal(alphatest,betatest, ptest)\n",
    "polytest = poly1d(thetatest)\n",
    "ytest = polytest(xtest) + normal(mutest, sigmatest, ntest)\n",
    "\n",
    "Atest, btest = PolRegMAP(ptest, mutest, sigmatest, alphatest, betatest, xtest, ytest)\n",
    "thetaMAPtest = solve(Atest,btest)[::-1]\n",
    "\n",
    "print('Atest = ', Atest)\n",
    "print('btest = ', btest)\n",
    "print('thetatest = ', thetatest)\n",
    "print('thetaMAPtest = ', thetaMAPtest)\n",
    "\n",
    "try:\n",
    "    assert((absolute(thetaMAPtest - thetatest) < 1e-2).all())\n",
    "    print('Your system... it\\'s perfect!')\n",
    "except:\n",
    "    raise Exception(\"Your system, is down... your system, is down...\")"
   ]
  },
  {
   "cell_type": "markdown",
   "metadata": {
    "deletable": false,
    "editable": false,
    "nbgrader": {
     "cell_type": "markdown",
     "checksum": "da58a9a6c76f638b0c3ae5620491a815",
     "grade": false,
     "grade_id": "cell-539d293fda74f568",
     "locked": true,
     "schema_version": 3,
     "solution": false,
     "task": false
    }
   },
   "source": [
    "As discussed in class, the linear least squares solution to the polynomial regression problem is equivalent to the MLE when the noise is assumed to be normally distributed with zero mean. \n",
    "\n",
    "As such, we should expect that MLE and LLS \n",
    "yield the same parameters -- with the exception of the constant term $\\theta_0$ -- when the noise is not of zero mean. \n",
    "\n",
    "\n",
    "<div class=\"alert alert-info\" role=\"alert\">\n",
    "    <b>Complete</b> the following cell with an adapted re-implementation of your <code>PolynomialSystem</code> implementation from <b>A1</b>. Here, self-plagiarism is allowed.\n",
    "</div>\n",
    "<div class=\"alert alert-success\" role=\"alert\">\n",
    "    <code>PolynomialSystem(m, n, ti, yi)</code> becomes <code>PolRegLLS(p, n, x, y)</code>, but be careful as, e.g., <code>n</code> has a different interpretation in this assignement.\n",
    "</div>"
   ]
  },
  {
   "cell_type": "code",
   "execution_count": 18,
   "metadata": {
    "deletable": false,
    "nbgrader": {
     "cell_type": "code",
     "checksum": "5e1359f789f0ea456b23aaa84c7b7369",
     "grade": false,
     "grade_id": "cell-4ebc6c4ea9326319",
     "locked": false,
     "schema_version": 3,
     "solution": true,
     "task": false
    }
   },
   "outputs": [],
   "source": [
    "def PolRegLLS(p, n, x, y):\n",
    "    \"\"\" Function that compute the MAP linear system matrix A and vector b \n",
    "        \n",
    "    Parameters: \n",
    "    p (int): number of parameters\n",
    "    n (int): number of samples\n",
    "    x (np.array(n,)): independent sample variables\n",
    "    y (np.array(n,)): dependent sample variables\n",
    "\n",
    "    Returns: \n",
    "    A, b (tuple(np.array((n,p)), np.array(n))), \n",
    "    Return the matrix A and vector b of the linear system\n",
    "    \n",
    "    \"\"\"\n",
    "    A = zeros((n,p))\n",
    "    b = zeros(n)\n",
    "    \n",
    "    # YOUR CODE HERE\n",
    "    # Must be overdetermined\n",
    "    if n < p:\n",
    "        raise Exception(\"Sorry, must have more points than the degree of the polynomial\")\n",
    "    \n",
    "    # YOUR CODE HERE\n",
    "    for i in range(n):\n",
    "        A[i, 0], t = 1, x[i]\n",
    "        for j in range(1, p):\n",
    "            A[i, j] = A[i, j-1]*t\n",
    "    b = y.copy()\n",
    "    \n",
    "    #raise NotImplementedError()\n",
    "    \n",
    "    return (A, b)"
   ]
  },
  {
   "cell_type": "markdown",
   "metadata": {
    "deletable": false,
    "editable": false,
    "nbgrader": {
     "cell_type": "markdown",
     "checksum": "051d6a101bd199a6336ecdcfafe09995",
     "grade": false,
     "grade_id": "cell-2f3e79e8e307928f",
     "locked": true,
     "schema_version": 3,
     "solution": false,
     "task": false
    }
   },
   "source": [
    "<div class=\"alert alert-info\" role=\"alert\">\n",
    "    <b>Run</b> the following cell to test your LLS system construction.\n",
    "</div>"
   ]
  },
  {
   "cell_type": "code",
   "execution_count": 19,
   "metadata": {
    "deletable": false,
    "editable": false,
    "nbgrader": {
     "cell_type": "code",
     "checksum": "2b12b316ba7da0c080758645060d7ca3",
     "grade": true,
     "grade_id": "cell-3ec31c08ea430306",
     "locked": true,
     "points": 0,
     "schema_version": 3,
     "solution": false,
     "task": false
    }
   },
   "outputs": [
    {
     "name": "stdout",
     "output_type": "stream",
     "text": [
      "Atest =  [[1.00000000e+00 3.04265153e-02 9.25772836e-04]\n",
      " [1.00000000e+00 4.23640471e-02 1.79471249e-03]\n",
      " [1.00000000e+00 1.12249993e-01 1.26000608e-02]\n",
      " [1.00000000e+00 1.93623290e-01 3.74899786e-02]\n",
      " [1.00000000e+00 2.21824031e-01 4.92059005e-02]\n",
      " [1.00000000e+00 2.27740993e-01 5.18659601e-02]\n",
      " [1.00000000e+00 3.59453151e-01 1.29206568e-01]\n",
      " [1.00000000e+00 3.78267817e-01 1.43086541e-01]\n",
      " [1.00000000e+00 4.46793320e-01 1.99624271e-01]\n",
      " [1.00000000e+00 4.93945256e-01 2.43981916e-01]\n",
      " [1.00000000e+00 5.50993970e-01 3.03594355e-01]\n",
      " [1.00000000e+00 5.88662155e-01 3.46523132e-01]\n",
      " [1.00000000e+00 6.57862134e-01 4.32782587e-01]\n",
      " [1.00000000e+00 6.67214707e-01 4.45175465e-01]\n",
      " [1.00000000e+00 7.98079020e-01 6.36930122e-01]\n",
      " [1.00000000e+00 8.36990365e-01 7.00552872e-01]\n",
      " [1.00000000e+00 9.00367452e-01 8.10661548e-01]\n",
      " [1.00000000e+00 9.29618739e-01 8.64191001e-01]\n",
      " [1.00000000e+00 9.80466459e-01 9.61314477e-01]\n",
      " [1.00000000e+00 9.83274865e-01 9.66829460e-01]]\n",
      "btest =  [1.03227699 1.04457636 1.12491939 1.23125178 1.27063846 1.28051522\n",
      " 1.48823749 1.52078796 1.64575727 1.73730079 1.85262191 1.93515894\n",
      " 2.0897522  2.11345594 2.43429061 2.53736585 2.71076057 2.79271206\n",
      " 2.94238224 2.9516233 ]\n",
      "thetatest =  [1.0016485  0.99844999 0.99954417]\n",
      "thetaLLStest =  [1.00095485 0.99416299 1.00537445]\n",
      "Good job!\n"
     ]
    }
   ],
   "source": [
    "ntest = 20\n",
    "ptest = 3\n",
    "mutest = 0\n",
    "sigmatest =0.001\n",
    "alphatest = 1\n",
    "betatest = 0.001\n",
    "xtest = sort(uniform(0,1,ntest))\n",
    "thetatest = normal(alphatest, betatest, ptest)\n",
    "polytest = poly1d(thetatest)\n",
    "ytest = polytest(xtest) + normal(mutest,sigmatest,ntest)\n",
    "Atest, btest = PolRegLLS(ptest, ntest, xtest, ytest)\n",
    "thetaLLStest = lstsq(Atest,btest, rcond=None)[0]\n",
    "\n",
    "print('Atest = ', Atest)\n",
    "print('btest = ', btest)\n",
    "print('thetatest = ', thetatest)\n",
    "print('thetaLLStest = ', thetaLLStest)\n",
    "\n",
    "try:\n",
    "    assert((absolute(thetaLLStest - thetatest) < 1e-2).all())\n",
    "    print('Good job!')\n",
    "except:\n",
    "    raise Exception(\"Sorry, try again.\")"
   ]
  },
  {
   "cell_type": "markdown",
   "metadata": {
    "deletable": false,
    "editable": false,
    "nbgrader": {
     "cell_type": "markdown",
     "checksum": "d71821bb650081a8153a58966f2a139b",
     "grade": false,
     "grade_id": "cell-25ad20cc8c10540b",
     "locked": true,
     "schema_version": 3,
     "solution": false,
     "task": false
    }
   },
   "source": [
    "<div class=\"alert alert-info\" role=\"alert\">\n",
    "    <b>Run</b> the following cell to build and compare your MLE, MAP and LLS linear systems.\n",
    "</div>"
   ]
  },
  {
   "cell_type": "code",
   "execution_count": 20,
   "metadata": {
    "deletable": false,
    "editable": false,
    "nbgrader": {
     "cell_type": "code",
     "checksum": "58d8d9de3041f5c2573f848d3478d376",
     "grade": false,
     "grade_id": "cell-ebe4672404eba848",
     "locked": true,
     "schema_version": 3,
     "solution": false,
     "task": false
    }
   },
   "outputs": [
    {
     "name": "stdout",
     "output_type": "stream",
     "text": [
      "Condition number of A_MLE: 36007.04011\n",
      "Condition number of A_MAP: 58.27924\n",
      "Condition number of A_LLS: 189.75521\n",
      "Condition number of A_LLS.dot(A_LLS.T): 179017070830433271808.00000\n"
     ]
    },
    {
     "data": {
      "image/png": "[encoded data removed]",
      "text/plain": [
       "<Figure size 1440x360 with 6 Axes>"
      ]
     },
     "metadata": {
      "needs_background": "light"
     },
     "output_type": "display_data"
    },
    {
     "data": {
      "image/png": "[encoded data removed]",
      "text/plain": [
       "<Figure size 576x576 with 2 Axes>"
      ]
     },
     "metadata": {
      "needs_background": "light"
     },
     "output_type": "display_data"
    }
   ],
   "source": [
    "A_MLE, b_MLE = PolRegMLE(p, mu, x, y)\n",
    "A_MAP, b_MAP = PolRegMAP(p, mu, sigma, alpha, beta ,x, y)\n",
    "A_LLS, b_LLS = PolRegLLS(p, n, x, y)\n",
    "\n",
    "\n",
    "print('Condition number of A_MLE: {:.5f}'.format(cond(A_MLE)))\n",
    "print('Condition number of A_MAP: {:.5f}'.format(cond(A_MAP)))\n",
    "print('Condition number of A_LLS: {:.5f}'.format(cond(A_LLS)))\n",
    "print('Condition number of A_LLS.dot(A_LLS.T): {:.5f}'.format(cond(A_LLS.dot(A_LLS.T))))\n",
    "\n",
    "\n",
    "plt.figure(figsize=(20,5))\n",
    "plt.subplot(131)\n",
    "plt.imshow(A_MLE, origin='upper', cmap='plasma')\n",
    "plt.colorbar()\n",
    "plt.axis('on')\n",
    "plt.title('A_MLE')\n",
    "plt.subplot(132)\n",
    "plt.imshow(A_MAP, origin='upper', cmap='plasma')\n",
    "plt.colorbar()\n",
    "plt.axis('on')\n",
    "plt.title('A_MAP')\n",
    "plt.subplot(133)\n",
    "plt.imshow(A_MAP-A_MLE, origin='upper', cmap='plasma')\n",
    "plt.colorbar()\n",
    "plt.axis('on')\n",
    "plt.title('A_MAP - A_MLE')\n",
    "plt.show()\n",
    "\n",
    "plt.figure(figsize=(8,8))\n",
    "plt.imshow(A_LLS, origin='upper', cmap='plasma')\n",
    "plt.colorbar()\n",
    "plt.axis('on')\n",
    "plt.title('A_LLS')\n",
    "plt.show()"
   ]
  },
  {
   "cell_type": "markdown",
   "metadata": {
    "deletable": false,
    "editable": false,
    "nbgrader": {
     "cell_type": "markdown",
     "checksum": "6211f006e695bae6fd3fbc7d3dcf76ba",
     "grade": false,
     "grade_id": "cell-a41badeea1dd7a50",
     "locked": true,
     "schema_version": 3,
     "solution": false,
     "task": false
    }
   },
   "source": [
    "<div class=\"alert alert-info\" role=\"alert\">\n",
    "    <b>Run</b> the following cell to benchmark the robustness of your MLE, MAP and LLS solvers. \n",
    "</div>\n",
    "\n",
    "<div class=\"alert alert-success\" role=\"alert\">\n",
    "    MAP should be more robust than MLE and LLS since it is given the exact prior. \n",
    "    Also, MLE and LLS should look quite similar.\n",
    "</div>"
   ]
  },
  {
   "cell_type": "code",
   "execution_count": 21,
   "metadata": {
    "deletable": false,
    "editable": false,
    "nbgrader": {
     "cell_type": "code",
     "checksum": "43add72c086df3bbd1c81d229d187caa",
     "grade": false,
     "grade_id": "cell-86eff4bdddc6984f",
     "locked": true,
     "schema_version": 3,
     "solution": false,
     "task": false
    }
   },
   "outputs": [
    {
     "data": {
      "image/png": "[encoded data removed]",
      "text/plain": [
       "<Figure size 720x720 with 1 Axes>"
      ]
     },
     "metadata": {
      "needs_background": "light"
     },
     "output_type": "display_data"
    },
    {
     "data": {
      "image/png": "[encoded data removed]",
      "text/plain": [
       "<Figure size 720x720 with 1 Axes>"
      ]
     },
     "metadata": {
      "needs_background": "light"
     },
     "output_type": "display_data"
    }
   ],
   "source": [
    "theta_MLE = solve(A_MLE,b_MLE)\n",
    "theta_MAP = solve(A_MAP,b_MAP)\n",
    "theta_LLS = lstsq(A_LLS,b_LLS, rcond=None)[0]\n",
    "\n",
    "plt.figure(figsize=(10,10))\n",
    "plt.plot(theta, label='theta')\n",
    "plt.plot(theta_MLE, '-', label='theta_MLE error: {:.5f}'.format(norm(theta_MLE-theta,2)))\n",
    "plt.plot(theta_MAP, '--', label='theta_MAP error: {:.5f}'.format(norm(theta_MAP-theta,2)))\n",
    "plt.plot(theta_LLS, ':', label='theta_LLS error: {:.5f}'.format(norm(theta_LLS-theta,2)))\n",
    "plt.legend()\n",
    "plt.show()\n",
    "\n",
    "z = linspace(-2., 1.75, 100)  # Independent variable x\n",
    "plt.figure(figsize=(10,10))\n",
    "plt.scatter(x, y, label='data: $(x, y)$')\n",
    "plt.plot(z, poly(z), label='$p_{{ {0} }}(x)$'.format(m))\n",
    "plt.plot(z, polyval(theta_MLE[::-1], z), '--',label='$p_{{ {0} }} (x \\mid \\\\theta_{{MLE}})$'.format(m))\n",
    "plt.plot(z, polyval(theta_MAP[::-1], z), '--',label='$p_{{ {0} }} (x \\mid \\\\theta_{{MAP}})$'.format(m))\n",
    "plt.plot(z, polyval(theta_LLS[::-1], z), '--',label='$p_{{ {0} }} (x \\mid \\\\theta_{{LLS}})$'.format(m))\n",
    "plt.xlabel('$x$')\n",
    "plt.ylabel('$y$')\n",
    "plt.title('Noisy data samples from polynomial curve')\n",
    "plt.legend()\n",
    "plt.show()\n",
    "\n"
   ]
  },
  {
   "cell_type": "markdown",
   "metadata": {
    "deletable": false,
    "editable": false,
    "nbgrader": {
     "cell_type": "markdown",
     "checksum": "8bda19e1f82074f817f44074643f994c",
     "grade": false,
     "grade_id": "cell-7503b58375424e05",
     "locked": true,
     "schema_version": 3,
     "solution": false,
     "task": false
    }
   },
   "source": [
    "# Mixture models with Expectation-Maximization [60%]"
   ]
  },
  {
   "cell_type": "markdown",
   "metadata": {
    "deletable": false,
    "editable": false,
    "nbgrader": {
     "cell_type": "markdown",
     "checksum": "816b6ce3516ac41c13204287c67016e0",
     "grade": false,
     "grade_id": "cell-c8c3c540ebd9fdc3",
     "locked": true,
     "schema_version": 3,
     "solution": false,
     "task": false
    }
   },
   "source": [
    "We will implement and use the *expectation-maximization* (EM) algorithm to fit a *Gaussian mixture model* (GMM) to complex, multi-modal data. Afterwards, we will apply GMMs to an image *color segmentation* problem.\n",
    "\n",
    "![Fitting a GMM to random, multi-modal data using the EM algorithm.](./gaussian_mixture.png) \n",
    "\n",
    "\n",
    "<div class=\"alert alert-info\" role=\"alert\">\n",
    "    <b>Run</b> the following cell in the Jupyter Notebook to include the required modules for this section.\n",
    "</div>"
   ]
  },
  {
   "cell_type": "code",
   "execution_count": 22,
   "metadata": {
    "deletable": false,
    "editable": false,
    "nbgrader": {
     "cell_type": "code",
     "checksum": "228bb9a41d6d6bc723dfe5780d6e1c9f",
     "grade": false,
     "grade_id": "cell-18696b06173aa702",
     "locked": true,
     "schema_version": 3,
     "solution": false,
     "task": false
    }
   },
   "outputs": [],
   "source": [
    "%matplotlib inline\n",
    "\n",
    "import math\n",
    "import random\n",
    "from os import path, mkdir\n",
    "\n",
    "from PIL import Image, ImageFilter\n",
    "from numpy import histogram, searchsorted, linspace, float32, int32, array, identity, zeros, zeros_like\n",
    "from numpy import full, log, sum, mean, dot, outer, mod, arange, amin, amax, maximum, argmax, log, sqrt, degrees,arctan2\n",
    "from numpy.linalg import norm, svd\n",
    "from numpy.random import randint, choice, uniform, seed\n",
    "from scipy.stats import multivariate_normal\n",
    "\n",
    "import matplotlib.pyplot as plt\n",
    "from matplotlib.pyplot import cm\n",
    "from matplotlib.patches import Ellipse"
   ]
  },
  {
   "cell_type": "markdown",
   "metadata": {
    "deletable": false,
    "editable": false,
    "nbgrader": {
     "cell_type": "markdown",
     "checksum": "6d721f07e7063493fb3677e9537b65c6",
     "grade": false,
     "grade_id": "cell-c62f8208e9c76720",
     "locked": true,
     "schema_version": 3,
     "solution": false,
     "task": false
    }
   },
   "source": [
    "<div class=\"alert alert-warning\" role=\"alert\">\n",
    "     Be mindful of the performance of your code. Specifically, while it may be more natural to use (nested) loops to iteratively perform operations on vectorized data, you should instead rely on <code>numpy</code>'s built-in functions as much as possible -- this may require some digging through the documentation. Without this, Python will not exploit vectorized opcode-level optimizations, and will run much slower. Moreover, we will impose a (sufficiently lenient) time limit on the execution of some cells in your algorithm.\n",
    "</div>\n",
    "\n",
    "<div class=\"alert alert-info\" role=\"alert\">\n",
    "    <b>Run</b> the following cell in the Jupyter Notebook to define the  <code>%%exit_after</code> function decorator. This decorator enforces our time-based cell execution limit -- you can safely ignore this code, after you run it.\n",
    "</div>"
   ]
  },
  {
   "cell_type": "code",
   "execution_count": 23,
   "metadata": {
    "deletable": false,
    "editable": false,
    "nbgrader": {
     "cell_type": "code",
     "checksum": "ae9196c122d05352839204a2d1b39bfa",
     "grade": false,
     "grade_id": "cell-f9ea5e99417b8efe",
     "locked": true,
     "schema_version": 3,
     "solution": false,
     "task": false
    }
   },
   "outputs": [],
   "source": [
    "from __future__ import print_function\n",
    "import sys\n",
    "import threading\n",
    "from time import sleep\n",
    "try:\n",
    "    import thread\n",
    "except ImportError:\n",
    "    import _thread as thread\n",
    "    \n",
    "try:\n",
    "    range, _print = xrange, print\n",
    "    def print(*args, **kwargs): \n",
    "        flush = kwargs.pop('flush', False)\n",
    "        _print(*args, **kwargs)\n",
    "        if flush:\n",
    "            kwargs.get('file', sys.stdout).flush()            \n",
    "except NameError:\n",
    "    pass\n",
    "\n",
    "def quit_function(fn_name):\n",
    "    # print to stderr, unbuffered in Python 2.\n",
    "    print('{0} took too long'.format(fn_name), file=sys.stderr)\n",
    "    sys.stderr.flush() # Python 3 stderr is likely buffered.\n",
    "    thread.interrupt_main() # raises KeyboardInterrupt\n",
    "    \n",
    "def exit_after(s):\n",
    "    def outer(fn):\n",
    "        def inner(*args, **kwargs):\n",
    "            timer = threading.Timer(s, quit_function, args=[fn.__name__])\n",
    "            timer.start()\n",
    "            try:\n",
    "                result = fn(*args, **kwargs)\n",
    "            finally:\n",
    "                timer.cancel()\n",
    "            return result\n",
    "        return inner\n",
    "    return outer\n"
   ]
  },
  {
   "cell_type": "markdown",
   "metadata": {
    "deletable": false,
    "editable": false,
    "nbgrader": {
     "cell_type": "markdown",
     "checksum": "bc9dc2416c071bb3f07f6479e86b45b6",
     "grade": false,
     "grade_id": "cell-c17f40511af384ed",
     "locked": true,
     "schema_version": 3,
     "solution": false,
     "task": false
    }
   },
   "source": [
    "## Background\n",
    "\n",
    "Consider many $d$-dimensional data samples $\\bfx_i$ drawn from a *mixture model* parameterized by $\\bstheta$.\n",
    "\n",
    "Our examples use a *mixture of multivariate normal distributions* $\\gaussian( x | \\bsmu, \\bsSigma)$ (i.e., high-dimensional, anisotropic Gaussians), with $K$ *mixture components*, and so our $\\bstheta=\\{\\bsmu_0,\\ldots,\\bsmu_{K-1},\\bsSigma_0,\\ldots,\\bsSigma_{K-1},\\pi_0,\\ldots,\\pi_{K-1}\\}$, where \n",
    "\n",
    "* each of the $K$ $d$-dimensional Gaussians are parameterized by a $d$-dimensional mean vector $\\bsmu_i$, a $d\\times d$ covariance matrix $\\bsSigma_i$ (see below), and\n",
    "* the normalized _mixture proportions_ $\\pi_c$ weight the amount of each of the $K$ components in the mixture, with $\\sum_{c=0}^{K-1} \\pi_c = 1$.\n",
    "\n",
    "We use the standard definition of a $d$-dimensional multivariate normal distribution, with density:\n",
    "$$\n",
    "\\gaussian(\\bfx | \\bsmu, \\bsSigma) = \\frac{1}{(2\\pi)^{d/2}|\\bsSigma|^{1/2}}\\exp\\left[-\\frac{1}{2}(\\bfx-\\bsmu)^\\intercal\\bsSigma^{-1}(\\bfx-\\bsmu)\\right]~,\n",
    "$$\n",
    "and so the marginal distribution of $\\bfx_i$ is:\n",
    "$$\n",
    "P(\\bfx_i | \\bstheta) = \\sum\\limits_{c=0}^{K-1}\\pi_c \\gaussian(\\bfx_i | \\bsmu_c,\\bsSigma_c)~.\n",
    "$$\n",
    "\n",
    "As such, the joint probability of $n$ i.i.d. data samples $\\widehat{\\bfx} = \\{\\bfx_0,\\ldots,\\bfx_{n-1}\\}$ is \n",
    "$$\n",
    "P(\\widehat{\\bfx}| \\bstheta) = \\prod\\limits_{i=0}^{n-1}\\sum\\limits_{c=0}^{K-1}\\pi_c \\gaussian(\\bfx_i | \\bsmu_c,\\bsSigma_c)~.\n",
    "$$\n",
    "\n",
    "And so, given the samples $\\widehat{\\bfx}$ and knowing only the number of mixture components $K$, our goal is to estimate the mixture's parameters $\\bstheta$ that best match the data: the means $\\bsmu_c$ (i.e., centers), covariances $\\bsSigma_c$ (i.e., anisotropic shapes), and weights $\\pi_c$ of the mixture components.\n",
    "\n",
    "<!--\n",
    "!!! tip: Let's use MLE!\n",
    "    It may seem natural at this point to derive an MLE for $\\bstheta$, however the derivative of the log-likelihood does not allow us to isolate a solution to the parameters, due to a non-linear term.\n",
    "\n",
    "In our context, we have $\\bstheta=\\{\\mu_0,\\ldots,\\mu_{K-1},\\Sigma_0,\\ldots,\\Sigma_{K-1},\\pi_0,\\ldots,\\pi_{K-1}\\}$ and  $x_i|z_i=c, \\bstheta \\sim \\gaussian(\\mu_c,\\Sigma_c)$ \n",
    "-->"
   ]
  },
  {
   "cell_type": "markdown",
   "metadata": {
    "deletable": false,
    "editable": false,
    "nbgrader": {
     "cell_type": "markdown",
     "checksum": "7409e0fe4e1701cbcffbb62a710d0083",
     "grade": false,
     "grade_id": "cell-eb1dace63712511d",
     "locked": true,
     "schema_version": 3,
     "solution": false,
     "task": false
    }
   },
   "source": [
    "### From MLE to Expectation-Maximization\n",
    "\n",
    "A natural step is to derive an MLE for $\\bstheta$. The likelihood function is simply the joint probability \n",
    "$P(\\widehat{\\bfx} | \\bstheta)$, and so the log-likelihood is\n",
    "$$\n",
    "\\log P(\\widehat{\\bfx} | \\bstheta) = \\sum\\limits_{i=0}^{n-1}\\log\\left(\\sum\\limits_{c=0}^{K-1} \\pi_c\\gaussian(\\bfx_i | \\bsmu_c,\\bsSigma_c)\\right)~.\n",
    "$$\n",
    "\n",
    "We immediately run into difficulties when differentiating with respect to, say, $\\bsmu_k$:\n",
    "$$\n",
    "\\pder{\\bsmu_j}\\log P(\\widehat{\\bfx} | \\bstheta) = \\sum\\limits_{i=0}^{n-1}\\left(\\frac{\\pi_j \\gaussian(\\bfx_i | \\bsmu_j,\\bsSigma_j)}{ \\sum\\limits_{c=1}^{K}\\pi_c \\gaussian(\\bfx_i | \\bsmu_c,\\bsSigma_c)}\\right) (\\bfx_i - \\bsmu_j)\\bsSigma_j^{-1} = 0~,\n",
    "$$\n",
    "as we are unable to isolate $\\bsmu_k$. There is a non linearity induced by the $\\left(\\pi_k \\gaussian(\\bfx_i | \\bsmu_k,\\bsSigma_k)\\right)\\Big/\\left( \\sum\\limits_{c=1}^{K}\\pi_c \\gaussian(\\bfx_i | \\bsmu_c,\\bsSigma_c)\\right)$ term. We face similar problems when differentiating with respect to other parameters in $\\bstheta$.\n",
    "\n",
    "\n",
    "To sidestep this issue, we will introduce the concept of a _latent label_ $z_i \\in \\{1, \\ldots, K\\}$ of each data sample $\\bfx_i$.\n",
    "\n",
    "This latent label corresponds to the ground truth association of each data sample to its corresponding mixture component, and so $\\pi_c = P(z_i = c|\\bstheta)$.\n",
    "\n",
    "By the *law of total probability*, the marginal conditional probability distribution of $\\bfx_i$ given $\\bstheta$ can be re-written as\n",
    "$$\n",
    "P(\\bfx_i | \\bstheta) = \\sum\\limits_{c=0}^{K-1} \\underbrace{P(z_i=c | \\bstheta)}_{\\pi_c} \\, \\underbrace{P(\\bfx_i | z_i=c, \\bstheta)}_{\\gaussian(\\bfx_i | \\bsmu_c,\\bsSigma_c)}~.\n",
    "$$\n",
    "\n",
    "Intuitively, knowing the latent variables $z_i$ should help us in computing the MLE. To do so, we first compute the posterior $P(z_i = k | \\bfx_i, \\bstheta)$ using Bayes' law:\n",
    "$$\n",
    "r_{i,j} := P(z_i = j | \\bfx_i, \\bstheta) =  \\frac{P(\\bfx_i | z_i = j, \\bstheta) P(z_i = c|\\bstheta)}{ P(\\bfx_i | \\bstheta)} =  \\frac{P(z_i = j|\\bstheta) P(\\bfx_i | z_i = j, \\bstheta) }{ P(\\bfx_i | \\bstheta)}\n",
    " = \\frac{\\pi_j \\gaussian(\\bfx_i | \\bsmu_j,\\bsSigma_j)}{ \\sum\\limits_{c=0}^{K-1}\\pi_{c} \\gaussian(\\bfx_i | \\bsmu_{c},\\bsSigma_{c})}~.\n",
    "$$\n",
    "\n",
    "We can now rewrite the partial derivative of the log-likelihood with respect to $\\bsmu_k$ as:\n",
    "$$\n",
    "\\pder{\\bsmu_j}\\log P(\\widehat{\\bfx} | \\bstheta) =\\sum\\limits_{i=0}^{n-1} r_{i,j} (\\bfx_i - \\bsmu_j)\\bsSigma_j^{-1} = 0~.\n",
    "$$\n",
    "\n",
    "Even though $r_{i,j}$ depends on $\\bsmu_j$, we can define an __iterative process__ that _assumes_ we _have_ an approximate value of $r_{i,j}$ and solving for $\\bsmu_j$ as:\n",
    "$$\n",
    "\\bsmu_j =\\frac{1}{\\omega_j}\\sum\\limits_{i=0}^{n-1}r_{i,j} \\, \\bfx_i\n",
    "$$\n",
    "\n",
    "where $\\omega_j = \\sum_{i=0}^{n-1} r_{i,j}$ can be interpreted as the effective number of data samples assigned to the mixture component $j$. We can similarly obtain expressions for the other parameters as:\n",
    "$$\n",
    "\\bsSigma_j = \\frac{1}{\\omega_j}\\sum\\limits_{i=0}^{n-1}r_{i,j} (\\bfx_i-\\bsmu_j)^\\intercal(\\bfx_i-\\bsmu_j)  \\quad\\text{and} \\quad \\pi_j = \\frac{\\omega_j}{n}~.\n",
    "$$ \n",
    "\n",
    "After computing these (updated) values for the $\\bsmu_j$, $\\bsSigma_j$ and $\\pi_j$, we can recompute new estimates for $r_{i,j}$ from the expression we derived using Bayes' theorem. We repeat this process until \"convergence\".\n"
   ]
  },
  {
   "cell_type": "markdown",
   "metadata": {
    "deletable": false,
    "editable": false,
    "nbgrader": {
     "cell_type": "markdown",
     "checksum": "92cf696d077f52f185e2c6f868ac9e63",
     "grade": false,
     "grade_id": "cell-7e038fe27689c09a",
     "locked": true,
     "schema_version": 3,
     "solution": false,
     "task": false
    }
   },
   "source": [
    "### Formalizing the EM algorithm\n",
    "\n",
    "To summarize:\n",
    "* if we knew the parameters $\\bstheta$, we could compute the posterior probabilities $r_{i,j}$, and\n",
    "* if we knew the posteriors $r_{i,j}$, we could compute the parameters $\\bstheta$.\n",
    "\n",
    "The EM algorithm proceeds as follows:\n",
    "0. **Initialize** the parameters $\\bstheta$ and evaluate the log-likelihood $\\log P(\\widehat{\\bfx} | \\bstheta)$ with these parameters,\n",
    "1. **E-step**: evaluate the posterior probabilities $r_{i,j}$ using the current values of the parameters $\\bstheta$,\n",
    "2. **M-step**: estimate new parameters $\\bstheta$ with the current values of $r_{i,j}$,\n",
    "3. **Evaluate** the log-likelihood $\\log P(\\widehat{\\bfx} | \\bstheta)$ with the new parameter estimates. If the log-likelihood has changed by less than some small value, terminate; otherwise, return to step 1 and repeat.\n",
    "\n",
    "<div class=\"alert alert-success\" role=\"alert\">\n",
    "    EM is sensitive to the initial values of the parameters, so special care must be taken in the first step. \n",
    "    Given \"valid\" initial values, however, the EM algorithm guarantees that the log-likelihood increases after every iteration. \n",
    "</div>\n",
    "<div class=\"alert alert-success\" role=\"alert\">\n",
    "    During EM iterations with GMMs, covariance matrices may become singular. To circumvent this problem, we \n",
    "    will add diagonal offsets to regularize these matrices. Note, however, that using too large a regularization can lead to the algorithm failing to converge (and, e.g., possibly **reducing** the log-likelihood estimate from one iteration to the next.)\n",
    "</div>"
   ]
  },
  {
   "cell_type": "markdown",
   "metadata": {
    "deletable": false,
    "editable": false,
    "nbgrader": {
     "cell_type": "markdown",
     "checksum": "3c24a027828a09836f61a2842ec90775",
     "grade": false,
     "grade_id": "cell-d639b99f3759f611",
     "locked": true,
     "schema_version": 3,
     "solution": false,
     "task": false
    }
   },
   "source": [
    "We provide a basic class structure to encapsulate GMM parameters and some utility methods. \n",
    "\n",
    "<div class=\"alert alert-warning\" role=\"alert\">\n",
    "    When implementing the subsequent functions, you should only require explicit loops <b>over the mixture component</b>. All other vector operations are realizable using <code>numpy</code> vectorized \n",
    "    functions such as <code>sum( , axis=) </code>,  <code>dot( , axis=)</code>,  <code>argmax( , axis=)</code> and the component-wise array operators  <code>+</code>,  <code>-</code> ,  <code>*</code> and  <code>/</code>. \n",
    "    We similarly provide access to the <code>multivariate_normal</code> class from the <code>scipy.stats</code> library, whose method <code>pdf()</code> is both vectorized and implements the Gaussian density.\n",
    "</div>\n",
    "\n",
    "<div class=\"alert alert-info\" role=\"alert\">\n",
    "    <b>Read</b> and <b>Run</b> the following cell to initialize your GMM class.\n",
    "</div>"
   ]
  },
  {
   "cell_type": "code",
   "execution_count": 27,
   "metadata": {
    "deletable": false,
    "editable": false,
    "nbgrader": {
     "cell_type": "code",
     "checksum": "d605f4c7af704118ca1d8f01372403a6",
     "grade": false,
     "grade_id": "cell-1f5c4cd42fcdfeac",
     "locked": true,
     "schema_version": 3,
     "solution": false,
     "task": false
    }
   },
   "outputs": [],
   "source": [
    "class GMM:\n",
    "    \"\"\" Class containing Gaussian mixture model data and utility methods\"\"\"\n",
    "\n",
    "    def __init__(self, X, n_components=10, reg_covar=1e-2, tol=1e-4, max_iter = 100, verbose = True, do_plot = False, mu_init=None):\n",
    "        \"\"\" Constructor of the GMM class\n",
    "            \n",
    "        Parameters: \n",
    "        X (np.array((n_samples, n_dim))): array containing the n_samples n_dim-dimensional samples\n",
    "        n_components (int): number of component of our GMM\n",
    "        reg_covar (float): regularization value to add to the diagonal of the covariances matrices\n",
    "        tol (float): log-likelihood tolerance, at wich point we will stop the algorithm\n",
    "        max_iter (int): maximum number of iteration\n",
    "        mu_init (np.array((n_components, n_dim))): array containing initial mean of each Gaussian. if None, we will sample them from X.\n",
    "        verbose (bool): True to print outputs\n",
    "        do_plot (bool): True to print GMM at each iterations\n",
    "\n",
    "        \"\"\"\n",
    "\n",
    "        self.X = X.astype(float32)\n",
    "        self.n_components = n_components\n",
    "        self.reg_covar = reg_covar**2\n",
    "        self.tol = tol\n",
    "        self.max_iter = max_iter\n",
    "        self.verbose = verbose\n",
    "        self.do_plot = do_plot\n",
    "        self.reg_covar = reg_covar**2\n",
    "\n",
    "        self.init_covar = 0.5*(amax(X)- amin(X))/self.n_components          # initial covariance size\n",
    "        self.n_samples, self.n_dim = self.X.shape                           # number of sample, dimension of the data\n",
    "        self.reg_cov = self.reg_covar*identity(self.n_dim, dtype=float32)   # regularization matrix\n",
    "        self.init_cov = self.init_covar*identity(self.n_dim, dtype=float32) # initial covariance matrix\n",
    "        \n",
    "        \"\"\" Set the initial mu, covariance and pi values \"\"\"\n",
    "        # Numpy array containing the mean of each gaussian\n",
    "        # This is a (n_components x n_dim) matrix\n",
    "        if mu_init is None:\n",
    "            # Initialize mean vector as random element of X\n",
    "            self.mu = self.X[choice(range(0,self.n_samples), self.n_components, replace=False),:]\n",
    "        else:\n",
    "            try:\n",
    "                assert( mu_init.shape[0] == self.n_components and mu_init.shape[1] == self.n_dim )\n",
    "            except:\n",
    "                raise Exception('Can\\'t plot if not 2D')\n",
    "            # Initialize mean vector from the provided means mu_init\n",
    "            self.mu = mu_init \n",
    "        \n",
    "        # Numpy array containing the covariance matrix of each Gaussian\n",
    "        # This is a (n_components x n_dim x n_dim) tensor\n",
    "        # Initialize covariances matrices as diagonal matrix (isotropic Gaussian)\n",
    "        self.cov = zeros((self.n_components, self.n_dim, self.n_dim), dtype=float32)\n",
    "        for c in range(self.n_components):\n",
    "            self.cov[c,:,:] = self.init_cov\n",
    "\n",
    "        # List containing the n_components multivariate gaussian\n",
    "        # Each gaussian have a method .pdf(X) that act on an array X and\n",
    "        # return an array of the same size containing the pdf's at each of X values\n",
    "        self.gauss = []\n",
    "        for c in range(self.n_components):\n",
    "            self.gauss.append(multivariate_normal(mean=self.mu[c,:],cov=self.cov[c,:,:]))    \n",
    "        \n",
    "        # Numpy array containing the probability of selecting a specific Gaussian\n",
    "        # This is a (n_components,) vector\n",
    "        # Uniform chance of selecting each Gaussian at the start, e.g. 1/K\n",
    "        self.pi = full(self.n_components, 1./self.n_components, dtype=float32)\n",
    "        \n",
    "        # Numpy array containing the weight of each Gaussian\n",
    "        # This is a (n_components,) vector\n",
    "        # Initialize to 0\n",
    "        self.weight = zeros(self.n_components, dtype=float32)\n",
    "        \n",
    "        # Numpy array containing probability of sample X_i being from Gaussian N_c\n",
    "        # This is a (n_samples, n_components) Matrix\n",
    "        # Initialize to 0\n",
    "        self.r_ik = zeros((self.n_samples, self.n_components), dtype=float32)\n",
    "        \n",
    "        # Numpy array containing normalization factors of r_ik\n",
    "        # This is a (n_samples) vector\n",
    "        # Initialize to 0\n",
    "        self.r_i = zeros(self.n_samples)\n",
    "        \n",
    "        # Numpy array containing the label of the Gaussian that has maximum probability of having generated the sample x_i\n",
    "        # This is a (n_samples) Vector of int\n",
    "        # Initialize to 0\n",
    "        self.Z = zeros(self.n_samples, dtype=int32)\n",
    "        \n",
    "        # List containing the log likelihood of each iteration\n",
    "        # We won't know its length before the end of the algorithm\n",
    "        self.log_likelihoods = [] \n",
    "\n",
    "    def draw_ellipse(self, k, **kwargs):\n",
    "        \"\"\"Draw an ellipse corresponding to the k-th Gaussian\"\"\"\n",
    "        try:\n",
    "            assert(self.n_dim == 2)\n",
    "        except:\n",
    "            raise Exception('Can\\'t plot if not 2D')\n",
    "            \n",
    "        ax = plt.gca()\n",
    "\n",
    "        # Convert covariance to principal axes\n",
    "        U, s, Vt = svd(self.cov[k,:,:])\n",
    "        angle = degrees(arctan2(U[1, 0], U[0, 0]))\n",
    "        width, height = 2 * sqrt(s)\n",
    "\n",
    "        # Draw the Ellipse\n",
    "        for nsig in range(1, 4):\n",
    "            ax.add_patch(Ellipse(self.mu[k,:], nsig * width, nsig * height, angle, **kwargs))\n",
    "        \n",
    "\n",
    "    def plotGMM(self, samples=None, labels=None, ellipse=True):\n",
    "        try:\n",
    "            assert(self.n_dim == 2)\n",
    "        except:\n",
    "            raise Exception('Can\\'t plot if not 2D')\n",
    "            \n",
    "        plt.figure(figsize=(10,10))\n",
    "        \n",
    "        colors = cm.viridis(linspace(0, 1, self.n_components))\n",
    "        if samples is None or labels is None:\n",
    "            plt.scatter(self.X[:, 0], self.X[:, 1], c=colors[self.Z,:], s=10)\n",
    "        else:\n",
    "            try:\n",
    "                assert(self.n_dim == samples.shape[1] and samples.shape[0]  == labels.shape[0])\n",
    "            except:\n",
    "                raise Exception('Can\\'t plot if not 2D')\n",
    "            plt.scatter(samples[:, 0], samples[:, 1], c=colors[labels,:], s=10)\n",
    "        plt.axis('equal')\n",
    "        \n",
    "        w_factor = 0.2 / self.weight.max()\n",
    "        if ellipse:\n",
    "            for k in range(self.n_components):\n",
    "                self.draw_ellipse(k, alpha = w_factor*self.weight[k], color=colors[k,:3])\n",
    "                plt.scatter(self.mu[k,0], self.mu[k,1], marker='*', s = 100)\n",
    "\n",
    "        plt.show()\n",
    "\n",
    "\n",
    "    def plotLogLikelihood(self):\n",
    "        \"\"\"Plot log-likelihood of our model \"\"\"\n",
    "        \n",
    "        plt.figure(figsize=(10, 10))\n",
    "        plt.plot(self.log_likelihoods)\n",
    "        plt.title('Log-Likelihood')\n",
    "        plt.show()"
   ]
  },
  {
   "cell_type": "markdown",
   "metadata": {
    "deletable": false,
    "editable": false,
    "nbgrader": {
     "cell_type": "markdown",
     "checksum": "2facd1ba02054e51ada38d62565d699d",
     "grade": false,
     "grade_id": "cell-e4e17a16bb68690d",
     "locked": true,
     "schema_version": 3,
     "solution": false,
     "task": false
    }
   },
   "source": [
    "## EM Implementation \n",
    "\n",
    "<u style=\"font-size:16pt;\">Compute normalization of the mixture for all the samples</u>\n",
    "\n",
    "Compute the mixture normalization factor, given the current parameters $\\bstheta$, for all the data samples using **only one for loop**\n",
    "over the mixture components: \n",
    "$$\n",
    "r_i :=\\sum\\limits_{c=0}^{K-1}\\pi_c \\gaussian(\\bfx_i | \\bsmu_c,\\bsSigma_c)~.\n",
    "$$\n",
    "\n",
    "You will use the result of this function in the expectation step and log-likelihood computation.\n",
    "\n",
    "<div class=\"alert alert-info\" role=\"alert\">\n",
    "    <b style=\"color:green;\">&#9745;</b> <b>Complete</b> the implementation of the normalization function in the cell below.\n",
    "</div>"
   ]
  },
  {
   "cell_type": "code",
   "execution_count": 28,
   "metadata": {
    "deletable": false,
    "nbgrader": {
     "cell_type": "code",
     "checksum": "15263b9caac77938ed0b99a7ff9a6d5e",
     "grade": true,
     "grade_id": "cell-bec40e153dbb49ab",
     "locked": false,
     "points": 10,
     "schema_version": 3,
     "solution": true,
     "task": false
    }
   },
   "outputs": [],
   "source": [
    "def normalization(gmm):     \n",
    "    \"\"\"compute mixture normalization factor for all data samples\n",
    "        \n",
    "    Compute the entries of r_i, i.e., the mixture normalization factor at each sample x_i.\n",
    "\n",
    "    Parameters: \n",
    "    gmm (Class GMM): our GMM instance\n",
    "\n",
    "    Returns: \n",
    "    Nothing, but it should modify gmm.r_i\n",
    "\n",
    "    \"\"\"\n",
    "\n",
    "    # You should only loop over the mixture components (use list comprehension if you can)\n",
    "    # Tip 1: use the vectorized pdf() method of the multivariate_normal class\n",
    "    # Tip 2: use sum(..., axis=)\n",
    "    \n",
    "    # YOUR CODE HERE\n",
    "    print(\"n, d: \", gmm.X.shape)\n",
    "    k = gmm.pi.shape[0]\n",
    "    print(\"mu\", gmm.mu.shape)\n",
    "    print(\"cov_shape\", gmm.cov.shape)\n",
    "    gmm.r_ik = array([array([gmm.pi[j]*multivariate_normal.pdf(gmm.X[i], mean=gmm.mu[j, :], cov=gmm.cov[j, :, :]) \n",
    "                       for j in range(k)]) for i in range(n)])\n",
    "    print(\"r_ik shape\", gmm.r_ik.shape)\n",
    "    gmm.r_i = sum(gmm.r_ik, axis=1)\n",
    "    print(\"Normalization ok\")\n",
    "    #raise NotImplementedError()"
   ]
  },
  {
   "cell_type": "markdown",
   "metadata": {
    "deletable": false,
    "editable": false,
    "nbgrader": {
     "cell_type": "markdown",
     "checksum": "9a7bd1f3edca44cf5def9f146674e325",
     "grade": false,
     "grade_id": "cell-3ddae0b8845aca22",
     "locked": true,
     "schema_version": 3,
     "solution": false,
     "task": false
    }
   },
   "source": [
    "<u style=\"font-size:16pt;\">Expectation step</u>\n",
    "\n",
    "Using the values of $r_{i}$, you have to compute the posterior density using **only one for loop** over the mixture components:\n",
    "$$\n",
    "r_{i,j} = \\frac{\\pi_j \\gaussian(\\bfx_i | \\bsmu_j,\\bsSigma_j)}{r_i}\n",
    "$$\n",
    "\n",
    "<div class=\"alert alert-info\" role=\"alert\">\n",
    "    <b style=\"color:green;\">&#9745;</b> <b>Complete</b> the implementation of expectation function in the cell below.\n",
    "</div>"
   ]
  },
  {
   "cell_type": "code",
   "execution_count": 29,
   "metadata": {
    "deletable": false,
    "nbgrader": {
     "cell_type": "code",
     "checksum": "cda6b2b5fbea9de69b23671823142d73",
     "grade": true,
     "grade_id": "cell-4431bda6f42fdb0b",
     "locked": false,
     "points": 10,
     "schema_version": 3,
     "solution": true,
     "task": false
    }
   },
   "outputs": [],
   "source": [
    "def expectation(gmm):           \n",
    "    \"\"\" Expectation step\n",
    "\n",
    "    Compute the entries of r_ij, i.e., the probability of sample i belonging to Gaussian j.\n",
    "\n",
    "    Parameters: \n",
    "    gmm (Class GMM): our GMM instance\n",
    "\n",
    "    Returns: \n",
    "    Nothing, but it should modify gmm.r_ij\n",
    "\n",
    "    \"\"\"\n",
    "\n",
    "    # You can loop over the mixture components ONLY\n",
    "    # and assume that you already know r_i \n",
    "    \n",
    "    # YOUR CODE HERE\n",
    "    n, k = gmm.r_ik.shape\n",
    "    gmm.r_ik = array([array([gmm.r_ik[i, j]/gmm.r_i[i] for j in range(k)]) for i in range(n)])\n",
    "    print(gmm.r_ik.shape, \"expectation step\")\n",
    "    # raise NotImplementedError()"
   ]
  },
  {
   "cell_type": "markdown",
   "metadata": {
    "deletable": false,
    "editable": false,
    "nbgrader": {
     "cell_type": "markdown",
     "checksum": "82a494a9c8df3dc2a3a52624987c2389",
     "grade": false,
     "grade_id": "cell-3f5c8db6eec24c14",
     "locked": true,
     "schema_version": 3,
     "solution": false,
     "task": false
    }
   },
   "source": [
    "<u style=\"font-size:16pt;\">Maximization step</u>\n",
    "\n",
    "Using the values of $r_{i,j}$ you have to compute the following quantities using **only one for loop** over the mixture components:\n",
    "$$\n",
    "z_{i} = \\argmax{j} r_{i,j} \\quad\\quad \\omega_j = \\sum\\limits_{i=0}^{n-1}r_{i,j} \\quad\\quad \\pi_j = \\frac{\\omega_j}{n} \\quad \\quad\n",
    "\\bsmu_j = \\frac{1}{\\omega_j}\\sum\\limits_{i=0}^{n-1}r_{i,j}\\,\\bfx_i\n",
    "$$\n",
    "$$\n",
    "\\bsSigma_j = \\frac{1}{\\omega_j}\\sum\\limits_{i=0}^{n-1}r_{i,j}(\\bfx_i-\\bsmu_j)^\\intercal(\\bfx_i-\\bsmu_j) + \\bsSigma_{\\text{Reg}}\n",
    "$$\n",
    "\n",
    "<div class=\"alert alert-info\" role=\"alert\">\n",
    "    <b style=\"color:green;\">&#9745;</b> <b>Complete</b> the implementation of maximization function in the cell below.\n",
    "</div>\n",
    "<div class=\"alert alert-success\" role=\"alert\">\n",
    "    Don't forget to regularize the covariance matrices.\n",
    "</div>"
   ]
  },
  {
   "cell_type": "code",
   "execution_count": 30,
   "metadata": {
    "deletable": false,
    "nbgrader": {
     "cell_type": "code",
     "checksum": "4a025a9ed8610e4f88d7c647252d706d",
     "grade": true,
     "grade_id": "cell-674222b4e57f2dbd",
     "locked": false,
     "points": 15,
     "schema_version": 3,
     "solution": true,
     "task": false
    }
   },
   "outputs": [],
   "source": [
    "def maximization(gmm):                   \n",
    "    \"\"\"Maximization step\n",
    "    \n",
    "    Compute the parameters (Z, weight, pi, mu, cov, gauss) updated values using r_ik\n",
    "    \n",
    "    Parameters: \n",
    "    gmm (Class GMM): our GMM instance that contains our data, parameters, etc..\n",
    "    \n",
    "    Returns: \n",
    "    Nothing, but it should modify gmm.(labels, weight, pi, mu, cov, gauss)\n",
    "    \n",
    "    \"\"\"\n",
    "    \n",
    "    # You can loop over the mixture components ONLY\n",
    "    # and assume that you already know r_ik \n",
    "    # Tip 1: you should use argmax, sum and dot with the appropriate axis.\n",
    "    # Tip 2: To access and use a column or r_ik, you should use gmm.r_ik[:,[k]] \n",
    "    #       to get (gmm.n_samples,1) as shape instead of ((gmm.n_samples,)\n",
    "    # Tip 3: gmm.reg_cov is small matrix that we add to the covariance to\n",
    "    #        to prevent the covariances from being singular\n",
    "    \n",
    "    # YOUR CODE HERE\n",
    "    n = gmm.X.shape[0]\n",
    "    k = gmm.mu[0]\n",
    "    d = gmm.X.shape[1]\n",
    "    gmm.Z = argmax(gmm.r_ik, axis=1)\n",
    "    gmm.pi = (1.0/n)*sum(gmm.r_ik, axis=0)\n",
    "    gmm.mu = dot(1.0/gmm.pi, gmm.r_ik.T*gmm.X)\n",
    "    for i in range(k):\n",
    "        x = gmm.X[:, i] - gmm.mu[i]\n",
    "        y = outer(x.T, x)\n",
    "        print(\"r_ik.shape, x.T*x\", gmm.r_ik.shape, y.shape)\n",
    "        gmm.cov[:, i] = gmm.reg_cov[:, i] + dot(1.0/gmm.pi, sum(gmm.r_ik*y))\n",
    "    print(gmm.cov.shape, \"maximization step\")\n",
    "    #raise NotImplementedError()"
   ]
  },
  {
   "cell_type": "markdown",
   "metadata": {
    "deletable": false,
    "editable": false,
    "nbgrader": {
     "cell_type": "markdown",
     "checksum": "e5a8611f814ed6c6a290b28d1dc8ee1b",
     "grade": false,
     "grade_id": "cell-a8ed4d2bb8286a0d",
     "locked": true,
     "schema_version": 3,
     "solution": false,
     "task": false
    }
   },
   "source": [
    "<u style=\"font-size:16pt;\">Computing the log-likelihood</u>\n",
    "\n",
    "Now, we can compute the log-likelihood estimate using the current values of $r_i$, relying only on built-in <code>numpy</code> routines:\n",
    "$$\n",
    "\\log P(\\widehat{\\bfx} | \\bstheta) = \\sum\\limits_{i=0}^{n-1}\\log\\left(r_i\\right)\n",
    "$$\n",
    "\n",
    "<div class=\"alert alert-info\" role=\"alert\">\n",
    "    <b style=\"color:green;\">&#9745;</b> <b>Complete</b> the implementation of log-likelihood function in the cell below.\n",
    "</div>"
   ]
  },
  {
   "cell_type": "code",
   "execution_count": 31,
   "metadata": {
    "deletable": false,
    "nbgrader": {
     "cell_type": "code",
     "checksum": "2700487e2113b33c9f9068aa54c00a3c",
     "grade": true,
     "grade_id": "cell-d40ff0ed06b8d087",
     "locked": false,
     "points": 10,
     "schema_version": 3,
     "solution": true,
     "task": false
    }
   },
   "outputs": [],
   "source": [
    "def logLikelihood(gmm):                        \n",
    "    \"\"\"Log likelihood computation\n",
    "\n",
    "    Compute the current log likelihood of the model.\n",
    "\n",
    "    Parameters: \n",
    "    gmm (Class GMM): our GMM instance\n",
    "\n",
    "    Returns: \n",
    "    Nothing, but it should modify gmm.log_likelihoods\n",
    "\n",
    "    \"\"\"\n",
    "\n",
    "    # You need to append to gmm.log_likelihoods\n",
    "    # and assume that you already know r_i \n",
    "    \n",
    "    # YOUR CODE HERE\n",
    "    gmm.log_likelihoods.append(sum(log(gmm.r_i)))\n",
    "    \n",
    "    #raise NotImplementedError()\n",
    "    \n",
    "    if len(gmm.log_likelihoods) > 1:\n",
    "        try:\n",
    "            assert(gmm.log_likelihoods[-1] >= gmm.log_likelihoods[-2])\n",
    "        except:\n",
    "            raise Warning('The log likelihood is not supposed to increase!')"
   ]
  },
  {
   "cell_type": "markdown",
   "metadata": {
    "deletable": false,
    "editable": false,
    "nbgrader": {
     "cell_type": "markdown",
     "checksum": "e042c27ff6aab426b2ea1b704417afc1",
     "grade": false,
     "grade_id": "cell-2ab393e215456464",
     "locked": true,
     "schema_version": 3,
     "solution": false,
     "task": false
    }
   },
   "source": [
    "### Predicting mixture membership of new/unseen data samples \n",
    "\n",
    "You may face problems where it is prohibitively slow to perform GMM parameter estimation on all of your data (e.g., the color segmentation problem later on in the assignment.)\n",
    "\n",
    "Here, a common strategy is to use only a subset of data samples to estimate the GMM parameters. Once these model parameters are estimated, however, you will need to predict the mixture component labels for all of the unseen samples from your data distribution. To do so, you first compute the posterior density given all the new samples and then, for each sample, return the component with the highest posterior probability.\n",
    "\n",
    "\n",
    "<div class=\"alert alert-info\" role=\"alert\">\n",
    "    <b style=\"color:green;\">&#9745;</b> <b>Complete</b> the implementation of predict function in the cell below.\n",
    "</div>\n",
    "<div class=\"alert alert-success\" role=\"alert\">\n",
    "    This function should resemble your normalization and expectation routines.\n",
    "</div>"
   ]
  },
  {
   "cell_type": "code",
   "execution_count": 32,
   "metadata": {
    "deletable": false,
    "nbgrader": {
     "cell_type": "code",
     "checksum": "471dde5779b4a6ecf610d2dcdf3053ee",
     "grade": true,
     "grade_id": "cell-ac570479ae7020eb",
     "locked": false,
     "points": 15,
     "schema_version": 3,
     "solution": true,
     "task": false
    }
   },
   "outputs": [],
   "source": [
    "def predict(gmm, Y):     \n",
    "    \"\"\" Predict the labels of new data points Y\n",
    "\n",
    "    Compute the labels of every new sample. These labels correspond to the \n",
    "    mixture component with the highest probability of having generated the sample.\n",
    "\n",
    "    Parameters: \n",
    "    gmm (Class GMM): our GMM instance \n",
    "    Y (np.array(( n_test_samples ,gmm.n_dim))): new data points that we wish to label.\n",
    "\n",
    "    Returns: \n",
    "    labels (np.array(n_test_samples): Array containing the labels associated to each of Y's samples\n",
    "    \"\"\"\n",
    "    \n",
    "    n_test_samples = Y.shape[0]\n",
    "    labels = zeros(n_test_samples, dtype=int32) \n",
    "    r_jk = zeros((n_test_samples, gmm.n_components), dtype=float32) \n",
    "    \n",
    "    # You can loop over the mixture components\n",
    "    # Tip: This funtion should look a loooot like normalization() and expectation()...\n",
    "    \n",
    "    # YOUR CODE HERE\n",
    "    gmm = GMM(Y)\n",
    "    \n",
    "    \"\"\"compute mixture normalization for all the samples\"\"\"\n",
    "    normalization(gmm)\n",
    "    \"\"\"Log likelihood computation\"\"\"\n",
    "    logLikelihood(gmm)\n",
    "          \n",
    "    for n in range(1,gmm.max_iter):               \n",
    "\n",
    "        \"\"\"Expectation step\"\"\"\n",
    "        expectation(gmm)\n",
    "\n",
    "        \"\"\"Maximization step\"\"\"\n",
    "        maximization(gmm)\n",
    "        \n",
    "        \"\"\"compute the new mixture normalization for all the samples\"\"\"\n",
    "        normalization(gmm)\n",
    "        \n",
    "        \"\"\"Log likelihood computation\"\"\"\n",
    "        logLikelihood(gmm)\n",
    "\n",
    "        error = abs(gmm.log_likelihoods[-2] / gmm.log_likelihoods[-1])\n",
    "        if (abs(1-error) < gmm.tol):\n",
    "            expectation(gmm)\n",
    "            labels = gmm.Z\n",
    "            return labels\n",
    "\n",
    "    print(\"Convergence not obtained!\")\n",
    "    \n",
    "    #raise NotImplementedError()\n",
    "    \n",
    "    \n"
   ]
  },
  {
   "cell_type": "markdown",
   "metadata": {
    "deletable": false,
    "editable": false,
    "nbgrader": {
     "cell_type": "markdown",
     "checksum": "534cbf25971c0219a64357bfa986372b",
     "grade": false,
     "grade_id": "cell-1aba062a5821db3a",
     "locked": true,
     "schema_version": 3,
     "solution": false,
     "task": false
    }
   },
   "source": [
    "### End-to-end EM: putting the pieces together\n",
    "\n",
    "<div class=\"alert alert-info\" role=\"alert\">\n",
    "    <b style=\"color:green;\">&#9745;</b> <b>Run</b> the following cell to setup the entire the EM algorithm.\n",
    "</div>"
   ]
  },
  {
   "cell_type": "code",
   "execution_count": 33,
   "metadata": {
    "deletable": false,
    "editable": false,
    "nbgrader": {
     "cell_type": "code",
     "checksum": "9a42a716081e77ace767ad9685214268",
     "grade": false,
     "grade_id": "cell-6600d7a69b5d0eba",
     "locked": true,
     "schema_version": 3,
     "solution": false,
     "task": false
    }
   },
   "outputs": [],
   "source": [
    "@exit_after(90)\n",
    "def run(gmm):\n",
    "    \"\"\"Run the expectation-maximization algorithm on a GMM\n",
    "    \n",
    "    Fit a GMM to our data using the expectation-maximization algorithm.\n",
    "    \n",
    "    Parameters: \n",
    "    gmm (Class GMM): our GMM instance\n",
    "    \n",
    "    Returns: \n",
    "    Nothing, but it should modify gmm using the previously defined functions\n",
    "    \n",
    "    \"\"\"\n",
    "    \n",
    "    \"\"\"E-M iterations, will break depending on log likelihood\"\"\"\n",
    "    \"\"\"Log likelihood computation\"\"\"\n",
    "    if gmm.verbose:\n",
    "        print('Iteration: {:4d}'.format(0), flush=True)\n",
    "    \"\"\"compute mixture normalization for all the samples\"\"\"\n",
    "    normalization(gmm)\n",
    "    \"\"\"Log likelihood computation\"\"\"\n",
    "    logLikelihood(gmm)\n",
    "          \n",
    "    for n in range(1,gmm.max_iter):               \n",
    "\n",
    "        \"\"\"Expectation step\"\"\"\n",
    "        expectation(gmm)\n",
    "\n",
    "        \"\"\"Maximization step\"\"\"\n",
    "        maximization(gmm)\n",
    "        \n",
    "        \"\"\"compute the new mixture normalization for all the samples\"\"\"\n",
    "        normalization(gmm)\n",
    "        \n",
    "        \"\"\"Log likelihood computation\"\"\"\n",
    "        logLikelihood(gmm)\n",
    "\n",
    "        error = abs(gmm.log_likelihoods[-2] / gmm.log_likelihoods[-1])\n",
    "        \n",
    "        if gmm.verbose:\n",
    "            print('Iteration: {:4d} - log likelihood ratio: {:1.6f}'.format(n, error), flush=True)\n",
    "        \n",
    "        if gmm.do_plot:\n",
    "            gmm.plotGMM(ellipse=True)\n",
    "        \n",
    "        if (abs(1-error) < gmm.tol):\n",
    "            expectation(gmm)\n",
    "            if gmm.verbose:\n",
    "                print('Success! You won the race!', flush=True)\n",
    "            return\n",
    "            \n",
    "    if gmm.verbose:\n",
    "        print('Uh oh... you ran out of iterations before converging...', flush=True)"
   ]
  },
  {
   "cell_type": "markdown",
   "metadata": {
    "deletable": false,
    "editable": false,
    "nbgrader": {
     "cell_type": "markdown",
     "checksum": "c9f08b807d0b7d6133d05d54b655278a",
     "grade": false,
     "grade_id": "cell-1300fbab3af2917e",
     "locked": true,
     "schema_version": 3,
     "solution": false,
     "task": false
    }
   },
   "source": [
    "<div class=\"alert alert-success\" role=\"alert\">\n",
    "    You can use the following cell to experiment with your EM algorithm implementation.\n",
    "</div>"
   ]
  },
  {
   "cell_type": "code",
   "execution_count": 43,
   "metadata": {},
   "outputs": [
    {
     "name": "stdout",
     "output_type": "stream",
     "text": [
      "Iteration:    0\n",
      "n, d:  (2000, 2)\n",
      "mu (4, 2)\n",
      "cov_shape (4, 2, 2)\n",
      "r_ik shape (40, 4)\n",
      "Normalization ok\n",
      "(40, 4) expectation step\n"
     ]
    },
    {
     "ename": "ValueError",
     "evalue": "operands could not be broadcast together with shapes (4,40) (2000,2) ",
     "output_type": "error",
     "traceback": [
      "\u001b[0;31m---------------------------------------------------------------------------\u001b[0m",
      "\u001b[0;31mValueError\u001b[0m                                Traceback (most recent call last)",
      "\u001b[0;32m<ipython-input-43-af0734da1770>\u001b[0m in \u001b[0;36m<module>\u001b[0;34m\u001b[0m\n\u001b[1;32m     29\u001b[0m \u001b[0;34m\u001b[0m\u001b[0m\n\u001b[1;32m     30\u001b[0m \u001b[0mgmm_test\u001b[0m  \u001b[0;34m=\u001b[0m \u001b[0mGMM\u001b[0m\u001b[0;34m(\u001b[0m\u001b[0mtraining_test\u001b[0m\u001b[0;34m,\u001b[0m \u001b[0mn_component_test\u001b[0m\u001b[0;34m,\u001b[0m \u001b[0mreg_covar\u001b[0m\u001b[0;34m=\u001b[0m\u001b[0;36m1e-3\u001b[0m\u001b[0;34m,\u001b[0m \u001b[0mtol\u001b[0m\u001b[0;34m=\u001b[0m\u001b[0;36m1e-6\u001b[0m\u001b[0;34m,\u001b[0m \u001b[0mmax_iter\u001b[0m\u001b[0;34m=\u001b[0m\u001b[0;36m100\u001b[0m\u001b[0;34m,\u001b[0m \u001b[0mverbose\u001b[0m \u001b[0;34m=\u001b[0m \u001b[0;32mTrue\u001b[0m\u001b[0;34m,\u001b[0m \u001b[0mdo_plot\u001b[0m \u001b[0;34m=\u001b[0m \u001b[0;32mTrue\u001b[0m\u001b[0;34m)\u001b[0m\u001b[0;34m\u001b[0m\u001b[0;34m\u001b[0m\u001b[0m\n\u001b[0;32m---> 31\u001b[0;31m \u001b[0mrun\u001b[0m\u001b[0;34m(\u001b[0m\u001b[0mgmm_test\u001b[0m\u001b[0;34m)\u001b[0m\u001b[0;34m\u001b[0m\u001b[0;34m\u001b[0m\u001b[0m\n\u001b[0m\u001b[1;32m     32\u001b[0m \u001b[0mgmm_test\u001b[0m\u001b[0;34m.\u001b[0m\u001b[0mplotLogLikelihood\u001b[0m\u001b[0;34m(\u001b[0m\u001b[0;34m)\u001b[0m\u001b[0;34m\u001b[0m\u001b[0;34m\u001b[0m\u001b[0m\n\u001b[1;32m     33\u001b[0m \u001b[0;34m\u001b[0m\u001b[0m\n",
      "\u001b[0;32m<ipython-input-23-2426bf2e9067>\u001b[0m in \u001b[0;36minner\u001b[0;34m(*args, **kwargs)\u001b[0m\n\u001b[1;32m     30\u001b[0m             \u001b[0mtimer\u001b[0m\u001b[0;34m.\u001b[0m\u001b[0mstart\u001b[0m\u001b[0;34m(\u001b[0m\u001b[0;34m)\u001b[0m\u001b[0;34m\u001b[0m\u001b[0;34m\u001b[0m\u001b[0m\n\u001b[1;32m     31\u001b[0m             \u001b[0;32mtry\u001b[0m\u001b[0;34m:\u001b[0m\u001b[0;34m\u001b[0m\u001b[0;34m\u001b[0m\u001b[0m\n\u001b[0;32m---> 32\u001b[0;31m                 \u001b[0mresult\u001b[0m \u001b[0;34m=\u001b[0m \u001b[0mfn\u001b[0m\u001b[0;34m(\u001b[0m\u001b[0;34m*\u001b[0m\u001b[0margs\u001b[0m\u001b[0;34m,\u001b[0m \u001b[0;34m**\u001b[0m\u001b[0mkwargs\u001b[0m\u001b[0;34m)\u001b[0m\u001b[0;34m\u001b[0m\u001b[0;34m\u001b[0m\u001b[0m\n\u001b[0m\u001b[1;32m     33\u001b[0m             \u001b[0;32mfinally\u001b[0m\u001b[0;34m:\u001b[0m\u001b[0;34m\u001b[0m\u001b[0;34m\u001b[0m\u001b[0m\n\u001b[1;32m     34\u001b[0m                 \u001b[0mtimer\u001b[0m\u001b[0;34m.\u001b[0m\u001b[0mcancel\u001b[0m\u001b[0;34m(\u001b[0m\u001b[0;34m)\u001b[0m\u001b[0;34m\u001b[0m\u001b[0;34m\u001b[0m\u001b[0m\n",
      "\u001b[0;32m<ipython-input-33-f77710b4e449>\u001b[0m in \u001b[0;36mrun\u001b[0;34m(gmm)\u001b[0m\n\u001b[1;32m     28\u001b[0m \u001b[0;34m\u001b[0m\u001b[0m\n\u001b[1;32m     29\u001b[0m         \u001b[0;34m\"\"\"Maximization step\"\"\"\u001b[0m\u001b[0;34m\u001b[0m\u001b[0;34m\u001b[0m\u001b[0m\n\u001b[0;32m---> 30\u001b[0;31m         \u001b[0mmaximization\u001b[0m\u001b[0;34m(\u001b[0m\u001b[0mgmm\u001b[0m\u001b[0;34m)\u001b[0m\u001b[0;34m\u001b[0m\u001b[0;34m\u001b[0m\u001b[0m\n\u001b[0m\u001b[1;32m     31\u001b[0m \u001b[0;34m\u001b[0m\u001b[0m\n\u001b[1;32m     32\u001b[0m         \u001b[0;34m\"\"\"compute the new mixture normalization for all the samples\"\"\"\u001b[0m\u001b[0;34m\u001b[0m\u001b[0;34m\u001b[0m\u001b[0m\n",
      "\u001b[0;32m<ipython-input-30-351c3115e567>\u001b[0m in \u001b[0;36mmaximization\u001b[0;34m(gmm)\u001b[0m\n\u001b[1;32m     26\u001b[0m     \u001b[0mgmm\u001b[0m\u001b[0;34m.\u001b[0m\u001b[0mZ\u001b[0m \u001b[0;34m=\u001b[0m \u001b[0margmax\u001b[0m\u001b[0;34m(\u001b[0m\u001b[0mgmm\u001b[0m\u001b[0;34m.\u001b[0m\u001b[0mr_ik\u001b[0m\u001b[0;34m,\u001b[0m \u001b[0maxis\u001b[0m\u001b[0;34m=\u001b[0m\u001b[0;36m1\u001b[0m\u001b[0;34m)\u001b[0m\u001b[0;34m\u001b[0m\u001b[0;34m\u001b[0m\u001b[0m\n\u001b[1;32m     27\u001b[0m     \u001b[0mgmm\u001b[0m\u001b[0;34m.\u001b[0m\u001b[0mpi\u001b[0m \u001b[0;34m=\u001b[0m \u001b[0;34m(\u001b[0m\u001b[0;36m1.0\u001b[0m\u001b[0;34m/\u001b[0m\u001b[0mn\u001b[0m\u001b[0;34m)\u001b[0m\u001b[0;34m*\u001b[0m\u001b[0msum\u001b[0m\u001b[0;34m(\u001b[0m\u001b[0mgmm\u001b[0m\u001b[0;34m.\u001b[0m\u001b[0mr_ik\u001b[0m\u001b[0;34m,\u001b[0m \u001b[0maxis\u001b[0m\u001b[0;34m=\u001b[0m\u001b[0;36m0\u001b[0m\u001b[0;34m)\u001b[0m\u001b[0;34m\u001b[0m\u001b[0;34m\u001b[0m\u001b[0m\n\u001b[0;32m---> 28\u001b[0;31m     \u001b[0mgmm\u001b[0m\u001b[0;34m.\u001b[0m\u001b[0mmu\u001b[0m \u001b[0;34m=\u001b[0m \u001b[0mdot\u001b[0m\u001b[0;34m(\u001b[0m\u001b[0;36m1.0\u001b[0m\u001b[0;34m/\u001b[0m\u001b[0mgmm\u001b[0m\u001b[0;34m.\u001b[0m\u001b[0mpi\u001b[0m\u001b[0;34m,\u001b[0m \u001b[0mgmm\u001b[0m\u001b[0;34m.\u001b[0m\u001b[0mr_ik\u001b[0m\u001b[0;34m.\u001b[0m\u001b[0mT\u001b[0m\u001b[0;34m*\u001b[0m\u001b[0mgmm\u001b[0m\u001b[0;34m.\u001b[0m\u001b[0mX\u001b[0m\u001b[0;34m)\u001b[0m\u001b[0;34m\u001b[0m\u001b[0;34m\u001b[0m\u001b[0m\n\u001b[0m\u001b[1;32m     29\u001b[0m     \u001b[0;32mfor\u001b[0m \u001b[0mi\u001b[0m \u001b[0;32min\u001b[0m \u001b[0mrange\u001b[0m\u001b[0;34m(\u001b[0m\u001b[0mk\u001b[0m\u001b[0;34m)\u001b[0m\u001b[0;34m:\u001b[0m\u001b[0;34m\u001b[0m\u001b[0;34m\u001b[0m\u001b[0m\n\u001b[1;32m     30\u001b[0m         \u001b[0mx\u001b[0m \u001b[0;34m=\u001b[0m \u001b[0mgmm\u001b[0m\u001b[0;34m.\u001b[0m\u001b[0mX\u001b[0m\u001b[0;34m[\u001b[0m\u001b[0;34m:\u001b[0m\u001b[0;34m,\u001b[0m \u001b[0mi\u001b[0m\u001b[0;34m]\u001b[0m \u001b[0;34m-\u001b[0m \u001b[0mgmm\u001b[0m\u001b[0;34m.\u001b[0m\u001b[0mmu\u001b[0m\u001b[0;34m[\u001b[0m\u001b[0mi\u001b[0m\u001b[0;34m]\u001b[0m\u001b[0;34m\u001b[0m\u001b[0;34m\u001b[0m\u001b[0m\n",
      "\u001b[0;31mValueError\u001b[0m: operands could not be broadcast together with shapes (4,40) (2000,2) "
     ]
    }
   ],
   "source": [
    "seed(0)\n",
    "\n",
    "n_component_test = 4\n",
    "n_test_1 = 500\n",
    "mean_test_1 = array([0.25, 0.25])\n",
    "cov_test_1 = 0.0002*array([[75, -70], [-70, 75]])\n",
    "gauss_test_1 = multivariate_normal(mean=mean_test_1,cov=cov_test_1)\n",
    "\n",
    "n_test_2 = 500\n",
    "mean_test_2 = array([0.75, 0.75])\n",
    "cov_test_2 = 0.0002*array([[1, 0], [0, 75]])\n",
    "gauss_test_2 = multivariate_normal(mean=mean_test_2,cov=cov_test_2)\n",
    "\n",
    "n_test_3 = 500\n",
    "mean_test_3 = array([0.25, 0.75])\n",
    "cov_test_3 = 0.02*array([[1, 0], [0, 1]])\n",
    "gauss_test_3 = multivariate_normal(mean=mean_test_3,cov=cov_test_3)\n",
    "\n",
    "n_test_4 = 500\n",
    "mean_test_4 = array([0.75, 0.25])\n",
    "cov_test_4 = 0.01*array([[1, 0], [0, 1]])\n",
    "gauss_test_4 = multivariate_normal(mean=mean_test_4,cov=cov_test_4)\n",
    "\n",
    "training_test = [gauss_test_1.rvs() for i in range(n_test_1)]\n",
    "training_test.extend([gauss_test_2.rvs() for i in range(n_test_2)])\n",
    "training_test.extend([gauss_test_3.rvs() for i in range(n_test_3)])\n",
    "training_test.extend([gauss_test_4.rvs() for i in range(n_test_4)])\n",
    "training_test = array(training_test)\n",
    "\n",
    "gmm_test  = GMM(training_test, n_component_test, reg_covar=1e-3, tol=1e-6, max_iter=100, verbose = True, do_plot = True)\n",
    "run(gmm_test)\n",
    "gmm_test.plotLogLikelihood()\n",
    "\n",
    "print(\"Labels prediction on unseen samples\")\n",
    "n_predict = 500\n",
    "samples_test = [array([gauss_test_1.rvs() for i in range(n_predict)])]\n",
    "samples_test.append([gauss_test_2.rvs() for i in range(n_predict)])\n",
    "samples_test.append([gauss_test_3.rvs() for i in range(n_predict)])\n",
    "samples_test.append([gauss_test_4.rvs() for i in range(n_predict)])\n",
    "samples_test = array(samples_test)\n",
    "\n",
    "labels_predict_test = predict(gmm_test, samples_test)\n",
    "gmm_test.plotGMM(samples=samples_test , labels=labels_predict_test, ellipse=True)"
   ]
  },
  {
   "cell_type": "markdown",
   "metadata": {
    "deletable": false,
    "editable": false,
    "nbgrader": {
     "cell_type": "markdown",
     "checksum": "3e80edeb8aefdd93424fb8edbc2911ca",
     "grade": false,
     "grade_id": "cell-61f9cbeacfaedf8e",
     "locked": true,
     "schema_version": 3,
     "solution": false,
     "task": false
    }
   },
   "source": [
    "<div class=\"alert alert-info\" role=\"alert\">\n",
    "    <b style=\"color:green;\">&#9745;</b> <b>Run</b> the following cell to validate your the EM algorithm implementation.\n",
    "</div>"
   ]
  },
  {
   "cell_type": "code",
   "execution_count": 35,
   "metadata": {
    "deletable": false,
    "editable": false,
    "nbgrader": {
     "cell_type": "code",
     "checksum": "b1658d172f883f80c7695e7c4e13c3e6",
     "grade": false,
     "grade_id": "cell-ccdfa4287b775ca8",
     "locked": true,
     "schema_version": 3,
     "solution": false,
     "task": false
    }
   },
   "outputs": [
    {
     "name": "stdout",
     "output_type": "stream",
     "text": [
      "n, d:  (3000, 2)\n",
      "mu (2, 2)\n",
      "cov_shape (2, 2, 2)\n",
      "r_ik shape (40, 2)\n",
      "Normalization ok\n",
      "(40, 2) expectation step\n"
     ]
    },
    {
     "ename": "ValueError",
     "evalue": "operands could not be broadcast together with shapes (2,40) (3000,2) ",
     "output_type": "error",
     "traceback": [
      "\u001b[0;31m---------------------------------------------------------------------------\u001b[0m",
      "\u001b[0;31mValueError\u001b[0m                                Traceback (most recent call last)",
      "\u001b[0;32m<ipython-input-35-15708a6e149e>\u001b[0m in \u001b[0;36m<module>\u001b[0;34m\u001b[0m\n\u001b[1;32m     20\u001b[0m \u001b[0mtraining_test\u001b[0m \u001b[0;34m=\u001b[0m \u001b[0marray\u001b[0m\u001b[0;34m(\u001b[0m\u001b[0mtraining_test\u001b[0m\u001b[0;34m)\u001b[0m\u001b[0;34m\u001b[0m\u001b[0;34m\u001b[0m\u001b[0m\n\u001b[1;32m     21\u001b[0m \u001b[0mgmm_test\u001b[0m  \u001b[0;34m=\u001b[0m \u001b[0mGMM\u001b[0m\u001b[0;34m(\u001b[0m\u001b[0mtraining_test\u001b[0m\u001b[0;34m,\u001b[0m \u001b[0mn_component_test\u001b[0m\u001b[0;34m,\u001b[0m \u001b[0mmu_init\u001b[0m\u001b[0;34m=\u001b[0m\u001b[0marray\u001b[0m\u001b[0;34m(\u001b[0m\u001b[0;34m[\u001b[0m\u001b[0mmean_test_1\u001b[0m\u001b[0;34m+\u001b[0m\u001b[0;34m[\u001b[0m\u001b[0;36m0.2\u001b[0m\u001b[0;34m,\u001b[0m\u001b[0;36m0\u001b[0m\u001b[0;34m]\u001b[0m\u001b[0;34m,\u001b[0m \u001b[0mmean_test_2\u001b[0m\u001b[0;34m+\u001b[0m\u001b[0;34m[\u001b[0m\u001b[0;34m-\u001b[0m\u001b[0;36m0.2\u001b[0m\u001b[0;34m,\u001b[0m\u001b[0;36m0\u001b[0m\u001b[0;34m]\u001b[0m\u001b[0;34m]\u001b[0m\u001b[0;34m)\u001b[0m\u001b[0;34m,\u001b[0m \u001b[0mreg_covar\u001b[0m\u001b[0;34m=\u001b[0m\u001b[0;36m1e-2\u001b[0m\u001b[0;34m,\u001b[0m \u001b[0mtol\u001b[0m\u001b[0;34m=\u001b[0m\u001b[0;36m1e-6\u001b[0m\u001b[0;34m,\u001b[0m \u001b[0mmax_iter\u001b[0m\u001b[0;34m=\u001b[0m\u001b[0;36m1000\u001b[0m\u001b[0;34m,\u001b[0m \u001b[0mverbose\u001b[0m \u001b[0;34m=\u001b[0m \u001b[0;32mFalse\u001b[0m\u001b[0;34m,\u001b[0m \u001b[0mdo_plot\u001b[0m \u001b[0;34m=\u001b[0m \u001b[0;32mFalse\u001b[0m\u001b[0;34m)\u001b[0m\u001b[0;34m\u001b[0m\u001b[0;34m\u001b[0m\u001b[0m\n\u001b[0;32m---> 22\u001b[0;31m \u001b[0mrun\u001b[0m\u001b[0;34m(\u001b[0m\u001b[0mgmm_test\u001b[0m\u001b[0;34m)\u001b[0m\u001b[0;34m\u001b[0m\u001b[0;34m\u001b[0m\u001b[0m\n\u001b[0m\u001b[1;32m     23\u001b[0m \u001b[0mgmm_test\u001b[0m\u001b[0;34m.\u001b[0m\u001b[0mplotGMM\u001b[0m\u001b[0;34m(\u001b[0m\u001b[0mellipse\u001b[0m\u001b[0;34m=\u001b[0m\u001b[0;32mTrue\u001b[0m\u001b[0;34m)\u001b[0m\u001b[0;34m\u001b[0m\u001b[0;34m\u001b[0m\u001b[0m\n\u001b[1;32m     24\u001b[0m \u001b[0mgmm_test\u001b[0m\u001b[0;34m.\u001b[0m\u001b[0mplotLogLikelihood\u001b[0m\u001b[0;34m(\u001b[0m\u001b[0;34m)\u001b[0m\u001b[0;34m\u001b[0m\u001b[0;34m\u001b[0m\u001b[0m\n",
      "\u001b[0;32m<ipython-input-23-2426bf2e9067>\u001b[0m in \u001b[0;36minner\u001b[0;34m(*args, **kwargs)\u001b[0m\n\u001b[1;32m     30\u001b[0m             \u001b[0mtimer\u001b[0m\u001b[0;34m.\u001b[0m\u001b[0mstart\u001b[0m\u001b[0;34m(\u001b[0m\u001b[0;34m)\u001b[0m\u001b[0;34m\u001b[0m\u001b[0;34m\u001b[0m\u001b[0m\n\u001b[1;32m     31\u001b[0m             \u001b[0;32mtry\u001b[0m\u001b[0;34m:\u001b[0m\u001b[0;34m\u001b[0m\u001b[0;34m\u001b[0m\u001b[0m\n\u001b[0;32m---> 32\u001b[0;31m                 \u001b[0mresult\u001b[0m \u001b[0;34m=\u001b[0m \u001b[0mfn\u001b[0m\u001b[0;34m(\u001b[0m\u001b[0;34m*\u001b[0m\u001b[0margs\u001b[0m\u001b[0;34m,\u001b[0m \u001b[0;34m**\u001b[0m\u001b[0mkwargs\u001b[0m\u001b[0;34m)\u001b[0m\u001b[0;34m\u001b[0m\u001b[0;34m\u001b[0m\u001b[0m\n\u001b[0m\u001b[1;32m     33\u001b[0m             \u001b[0;32mfinally\u001b[0m\u001b[0;34m:\u001b[0m\u001b[0;34m\u001b[0m\u001b[0;34m\u001b[0m\u001b[0m\n\u001b[1;32m     34\u001b[0m                 \u001b[0mtimer\u001b[0m\u001b[0;34m.\u001b[0m\u001b[0mcancel\u001b[0m\u001b[0;34m(\u001b[0m\u001b[0;34m)\u001b[0m\u001b[0;34m\u001b[0m\u001b[0;34m\u001b[0m\u001b[0m\n",
      "\u001b[0;32m<ipython-input-33-f77710b4e449>\u001b[0m in \u001b[0;36mrun\u001b[0;34m(gmm)\u001b[0m\n\u001b[1;32m     28\u001b[0m \u001b[0;34m\u001b[0m\u001b[0m\n\u001b[1;32m     29\u001b[0m         \u001b[0;34m\"\"\"Maximization step\"\"\"\u001b[0m\u001b[0;34m\u001b[0m\u001b[0;34m\u001b[0m\u001b[0m\n\u001b[0;32m---> 30\u001b[0;31m         \u001b[0mmaximization\u001b[0m\u001b[0;34m(\u001b[0m\u001b[0mgmm\u001b[0m\u001b[0;34m)\u001b[0m\u001b[0;34m\u001b[0m\u001b[0;34m\u001b[0m\u001b[0m\n\u001b[0m\u001b[1;32m     31\u001b[0m \u001b[0;34m\u001b[0m\u001b[0m\n\u001b[1;32m     32\u001b[0m         \u001b[0;34m\"\"\"compute the new mixture normalization for all the samples\"\"\"\u001b[0m\u001b[0;34m\u001b[0m\u001b[0;34m\u001b[0m\u001b[0m\n",
      "\u001b[0;32m<ipython-input-30-351c3115e567>\u001b[0m in \u001b[0;36mmaximization\u001b[0;34m(gmm)\u001b[0m\n\u001b[1;32m     26\u001b[0m     \u001b[0mgmm\u001b[0m\u001b[0;34m.\u001b[0m\u001b[0mZ\u001b[0m \u001b[0;34m=\u001b[0m \u001b[0margmax\u001b[0m\u001b[0;34m(\u001b[0m\u001b[0mgmm\u001b[0m\u001b[0;34m.\u001b[0m\u001b[0mr_ik\u001b[0m\u001b[0;34m,\u001b[0m \u001b[0maxis\u001b[0m\u001b[0;34m=\u001b[0m\u001b[0;36m1\u001b[0m\u001b[0;34m)\u001b[0m\u001b[0;34m\u001b[0m\u001b[0;34m\u001b[0m\u001b[0m\n\u001b[1;32m     27\u001b[0m     \u001b[0mgmm\u001b[0m\u001b[0;34m.\u001b[0m\u001b[0mpi\u001b[0m \u001b[0;34m=\u001b[0m \u001b[0;34m(\u001b[0m\u001b[0;36m1.0\u001b[0m\u001b[0;34m/\u001b[0m\u001b[0mn\u001b[0m\u001b[0;34m)\u001b[0m\u001b[0;34m*\u001b[0m\u001b[0msum\u001b[0m\u001b[0;34m(\u001b[0m\u001b[0mgmm\u001b[0m\u001b[0;34m.\u001b[0m\u001b[0mr_ik\u001b[0m\u001b[0;34m,\u001b[0m \u001b[0maxis\u001b[0m\u001b[0;34m=\u001b[0m\u001b[0;36m0\u001b[0m\u001b[0;34m)\u001b[0m\u001b[0;34m\u001b[0m\u001b[0;34m\u001b[0m\u001b[0m\n\u001b[0;32m---> 28\u001b[0;31m     \u001b[0mgmm\u001b[0m\u001b[0;34m.\u001b[0m\u001b[0mmu\u001b[0m \u001b[0;34m=\u001b[0m \u001b[0mdot\u001b[0m\u001b[0;34m(\u001b[0m\u001b[0;36m1.0\u001b[0m\u001b[0;34m/\u001b[0m\u001b[0mgmm\u001b[0m\u001b[0;34m.\u001b[0m\u001b[0mpi\u001b[0m\u001b[0;34m,\u001b[0m \u001b[0mgmm\u001b[0m\u001b[0;34m.\u001b[0m\u001b[0mr_ik\u001b[0m\u001b[0;34m.\u001b[0m\u001b[0mT\u001b[0m\u001b[0;34m*\u001b[0m\u001b[0mgmm\u001b[0m\u001b[0;34m.\u001b[0m\u001b[0mX\u001b[0m\u001b[0;34m)\u001b[0m\u001b[0;34m\u001b[0m\u001b[0;34m\u001b[0m\u001b[0m\n\u001b[0m\u001b[1;32m     29\u001b[0m     \u001b[0;32mfor\u001b[0m \u001b[0mi\u001b[0m \u001b[0;32min\u001b[0m \u001b[0mrange\u001b[0m\u001b[0;34m(\u001b[0m\u001b[0mk\u001b[0m\u001b[0;34m)\u001b[0m\u001b[0;34m:\u001b[0m\u001b[0;34m\u001b[0m\u001b[0;34m\u001b[0m\u001b[0m\n\u001b[1;32m     30\u001b[0m         \u001b[0mx\u001b[0m \u001b[0;34m=\u001b[0m \u001b[0mgmm\u001b[0m\u001b[0;34m.\u001b[0m\u001b[0mX\u001b[0m\u001b[0;34m[\u001b[0m\u001b[0;34m:\u001b[0m\u001b[0;34m,\u001b[0m \u001b[0mi\u001b[0m\u001b[0;34m]\u001b[0m \u001b[0;34m-\u001b[0m \u001b[0mgmm\u001b[0m\u001b[0;34m.\u001b[0m\u001b[0mmu\u001b[0m\u001b[0;34m[\u001b[0m\u001b[0mi\u001b[0m\u001b[0;34m]\u001b[0m\u001b[0;34m\u001b[0m\u001b[0;34m\u001b[0m\u001b[0m\n",
      "\u001b[0;31mValueError\u001b[0m: operands could not be broadcast together with shapes (2,40) (3000,2) "
     ]
    }
   ],
   "source": [
    "tresh = 0.2\n",
    "\n",
    "n_test = 3000\n",
    "n_component_test = 2\n",
    "\n",
    "pi_test_1 = 0.7\n",
    "n_test_1 = int(pi_test_1*n_test)\n",
    "mean_test_1 = array([0,1])\n",
    "cov_test_1 = 0.01*array([[100, 0], [0, 1]])\n",
    "gauss_test_1 = multivariate_normal(mean=mean_test_1,cov=cov_test_1)\n",
    "\n",
    "pi_test_2 = 0.3\n",
    "n_test_2 = int(pi_test_2*n_test)\n",
    "mean_test_2 = array([0, -1])\n",
    "cov_test_2 = 0.01*array([[100, 0], [0, 1]])\n",
    "gauss_test_2 = multivariate_normal(mean=mean_test_2,cov=cov_test_2)\n",
    "\n",
    "training_test = [gauss_test_1.rvs() for i in range(n_test_1)]\n",
    "training_test.extend([gauss_test_2.rvs() for i in range(n_test_2)])\n",
    "training_test = array(training_test)\n",
    "gmm_test  = GMM(training_test, n_component_test, mu_init=array([mean_test_1+[0.2,0], mean_test_2+[-0.2,0]]), reg_covar=1e-2, tol=1e-6, max_iter=1000, verbose = False, do_plot = False)\n",
    "run(gmm_test)\n",
    "gmm_test.plotGMM(ellipse=True)\n",
    "gmm_test.plotLogLikelihood()\n",
    "\n",
    "try:\n",
    "    assert((abs(1 - sum(gmm_test.pi)) < 1e-2).all())\n",
    "    print('Good, pi is normalized!')\n",
    "except:\n",
    "    gmm_test.plotGMM(ellipse=True)\n",
    "    print(\"sum(gmm_test.pi) : \", sum(gmm_test.pi))\n",
    "    raise Exception(\"The sum on pi should be 1...\")\n",
    "    \n",
    "try:\n",
    "    assert((norm(gmm_test.pi[0] - pi_test_1) < tresh).all() or (norm(gmm_test.pi[0] - pi_test_2) < tresh).all())\n",
    "    assert((norm(gmm_test.pi[1] - pi_test_1) < tresh).all() or (norm(gmm_test.pi[1] - pi_test_2) < tresh).all())\n",
    "    print('Good work on cutting that pie!')\n",
    "except:\n",
    "    gmm_test.plotGMM(ellipse=True)\n",
    "    print(\"pi_test_1 : \", pi_test_1)\n",
    "    print(\"pi_test_2 : \", pi_test_2)\n",
    "    print(\"gmm_test.pi : \", gmm_test.pi)\n",
    "    raise Exception(\"You ate the wrong pie...\")\n",
    "    \n",
    "if ((norm(gmm_test.pi[0] - pi_test_1) < 0.1).all()):\n",
    "    idx_1 = 0\n",
    "    idx_2 = 1\n",
    "else:\n",
    "    idx_1 = 1\n",
    "    idx_2 = 0\n",
    "    \n",
    "try:\n",
    "    assert((norm(gmm_test.mu[idx_1,:] - mean_test_1) < tresh).all() and (norm(gmm_test.mu[idx_2,:] - mean_test_2) < tresh).all())\n",
    "    print('That mean seem good enough!')\n",
    "except:\n",
    "    gmm_test.plotGMM(ellipse=True)\n",
    "    print(\"mean_test_1 : \", mean_test_1)\n",
    "    print(\"mean_test_2 : \", mean_test_2)\n",
    "    print(\"gmm_test.mu : \", gmm_test.mu)\n",
    "\n",
    "    raise Exception(\"That\\'s not the right mean...\")\n",
    "    \n",
    "try:\n",
    "    assert((norm(gmm_test.cov[idx_1,:] - cov_test_1) < tresh).all() and (norm(gmm_test.cov[idx_2,:] - cov_test_2) < tresh).all())\n",
    "    print('That\\'s a nice looking covariance matrix!')\n",
    "except:\n",
    "    gmm_test.plotGMM(ellipse=True)\n",
    "    print(\"cov_test_1 : \", cov_test_1)\n",
    "    print(\"cov_test_2 : \", cov_test_2)\n",
    "    print(\"gmm_test.cov : \", gmm_test.cov)\n",
    "    raise Exception(\"Ugh... ugly conditioning...\")\n",
    "  \n",
    "n_predict = 500\n",
    "samples_test = [gauss_test_1.rvs() for i in range(n_predict)]\n",
    "samples_test.extend([gauss_test_2.rvs() for i in range(n_predict)])\n",
    "samples_test = array(samples_test)\n",
    "labels_test = [idx_1 for i in range(n_predict)]\n",
    "labels_test.extend([idx_2 for i in range(n_predict)])\n",
    "\n",
    "labels_predict_test = predict(gmm_test, samples_test)\n",
    "gmm_test.plotGMM(samples=samples_test , labels=labels_predict_test, ellipse=True)\n",
    "\n",
    "try:    \n",
    "    assert((labels_predict_test == labels_test).all())\n",
    "    print('Awesome predictions!')\n",
    "except:\n",
    "    gmm_test.plotGMM(samples=samples_test,labels=labels_predict_test,ellipse=True)\n",
    "    raise Exception(\"Prediction was a no-go :-(\")"
   ]
  },
  {
   "cell_type": "markdown",
   "metadata": {
    "deletable": false,
    "editable": false,
    "nbgrader": {
     "cell_type": "markdown",
     "checksum": "74031a8fb0c29e35246a9de135acacf2",
     "grade": false,
     "grade_id": "cell-73ccdb163a9c6681",
     "locked": true,
     "schema_version": 3,
     "solution": false,
     "task": false
    }
   },
   "source": [
    "## GMM for image color segmentation\n",
    "\n",
    "We can apply GMMs to an **image segmentation problem**: namely, how to partition an image into several segments (sets of pixels) in order to either simplify and/or modify the image into a form that is more amenable for analysis. \n",
    "\n",
    "Specifically, image segmentation assigns a discrete label to each pixel in an image such that pixels with the same label \n",
    "share certain characteristics. Our example performs *color image segmentation*, where this characteristic is the RGB value of the pixel.\n",
    "\n",
    "![Given a source image, you will use a GMM to cluster the color distribution of the image.](color_segmentation.png)\n",
    "\n",
    "\n",
    "You will fit a GMM to the distribution of colors in an image.\n",
    "\n",
    "<div class=\"alert alert-info\" role=\"alert\">\n",
    "    <b style=\"color:green;\">&#9745;</b> <b>Run</b> the following cell to check if your image is in the correct folder and to define your training parameters.\n",
    "</div>\n",
    "<div class=\"alert alert-success\" role=\"alert\">\n",
    "    A common technique to improve performance for larger problems is to down sample the image, compute the mixture, and then reassign the labels to the larger image using the <code>predict</code> function.\n",
    "</div>\n"
   ]
  },
  {
   "cell_type": "code",
   "execution_count": 36,
   "metadata": {},
   "outputs": [],
   "source": [
    "n_components = 20     # number of components in your GMM\n",
    "subsample_factor = 100 # factor used to subsample your image pixels\n",
    "\n",
    "img_name = 'big_bear' # your image name\n",
    "img_ext = '.png'      # your image extension"
   ]
  },
  {
   "cell_type": "code",
   "execution_count": 37,
   "metadata": {
    "deletable": false,
    "editable": false,
    "nbgrader": {
     "cell_type": "code",
     "checksum": "03727644f9cce73c96c49da856268fb7",
     "grade": false,
     "grade_id": "cell-45411314141298bd",
     "locked": true,
     "schema_version": 3,
     "solution": false,
     "task": false
    }
   },
   "outputs": [
    {
     "name": "stdout",
     "output_type": "stream",
     "text": [
      "Image located!\n",
      "Directory  results  created \n"
     ]
    }
   ],
   "source": [
    "try:\n",
    "    assert(path.exists(''.join([img_name, img_ext])))\n",
    "    print('Image located!')\n",
    "except:\n",
    "    img_name = 'big_bear' \n",
    "    img_ext = '.png'\n",
    "    raise Warning('This image do not exist in the current working folder')\n",
    "\n",
    "# Create results directory\n",
    "resultsDirName = 'results'\n",
    "try:\n",
    "    mkdir(resultsDirName)\n",
    "    print(\"Directory \" , resultsDirName ,  \" created \") \n",
    "except FileExistsError:\n",
    "    print(\"Directory \" , resultsDirName ,  \" already exists\")"
   ]
  },
  {
   "cell_type": "markdown",
   "metadata": {
    "deletable": false,
    "editable": false,
    "nbgrader": {
     "cell_type": "markdown",
     "checksum": "056c06a16ae103be2bd6cf915729bd3a",
     "grade": false,
     "grade_id": "cell-6696b2685293e9a9",
     "locked": true,
     "schema_version": 3,
     "solution": false,
     "task": false
    }
   },
   "source": [
    "\n",
    "<div class=\"alert alert-info\" role=\"alert\">\n",
    "    <b style=\"color:green;\">&#9745;</b> <b>Run</b> the following cell to load and blur the image you wish to segment.\n",
    "</div>"
   ]
  },
  {
   "cell_type": "code",
   "execution_count": 38,
   "metadata": {
    "deletable": false,
    "editable": false,
    "nbgrader": {
     "cell_type": "code",
     "checksum": "6b50031d7c1b8a830983b07e1734af80",
     "grade": false,
     "grade_id": "cell-637729d577b462a6",
     "locked": true,
     "schema_version": 3,
     "solution": false,
     "task": false
    }
   },
   "outputs": [
    {
     "data": {
      "image/png": "[encoded data removed]",
      "text/plain": [
       "<Figure size 1080x360 with 1 Axes>"
      ]
     },
     "metadata": {
      "needs_background": "light"
     },
     "output_type": "display_data"
    }
   ],
   "source": [
    "# Loading the image\n",
    "img_source = Image.open(''.join([img_name, img_ext])).convert('RGB')\n",
    "\n",
    "# Blurring the image for smoother results\n",
    "img_blurred = img_source.filter(ImageFilter.BoxBlur(1))              \n",
    "\n",
    "img_matrix_source = array(img_source)/255.\n",
    "img_matrix_blurred = array(img_blurred)/255.\n",
    "\n",
    "n_height, n_width, n_channel = img_matrix_source.shape\n",
    "n_pixels = n_height * n_width\n",
    "\n",
    "plt.figure(figsize=(15,5))\n",
    "plt.imshow(img_matrix_source, origin='upper')\n",
    "plt.title('Source image')\n",
    "plt.show()\n",
    "\n",
    "img_vector_source = img_matrix_source.reshape((n_pixels, n_channel))\n",
    "img_vector_blurred = img_matrix_blurred.reshape((n_pixels, n_channel))"
   ]
  },
  {
   "cell_type": "markdown",
   "metadata": {
    "deletable": false,
    "editable": false,
    "nbgrader": {
     "cell_type": "markdown",
     "checksum": "7042fd23da7e767c0982d5363b89876b",
     "grade": false,
     "grade_id": "cell-9e86973f808ef6f7",
     "locked": true,
     "schema_version": 3,
     "solution": false,
     "task": false
    }
   },
   "source": [
    "<div class=\"alert alert-info\" role=\"alert\">\n",
    "    <b style=\"color:green;\">&#9745;</b> <b>Run</b> the following cell to train a GMM on the color spectrum of the image.\n",
    "</div> "
   ]
  },
  {
   "cell_type": "code",
   "execution_count": 39,
   "metadata": {
    "deletable": false,
    "editable": false,
    "nbgrader": {
     "cell_type": "code",
     "checksum": "37f2d1c43640f32ffb3e8a104ee2bff4",
     "grade": false,
     "grade_id": "cell-a0c2707508bb1dfb",
     "locked": true,
     "schema_version": 3,
     "solution": false,
     "task": false
    }
   },
   "outputs": [
    {
     "name": "stdout",
     "output_type": "stream",
     "text": [
      "Iteration:    0\n",
      "n, d:  (7063, 3)\n",
      "mu (20, 3)\n",
      "cov_shape (20, 3, 3)\n",
      "r_ik shape (40, 20)\n",
      "Normalization ok\n",
      "(40, 20) expectation step\n"
     ]
    },
    {
     "ename": "ValueError",
     "evalue": "operands could not be broadcast together with shapes (20,40) (7063,3) ",
     "output_type": "error",
     "traceback": [
      "\u001b[0;31m---------------------------------------------------------------------------\u001b[0m",
      "\u001b[0;31mValueError\u001b[0m                                Traceback (most recent call last)",
      "\u001b[0;32m<timed exec>\u001b[0m in \u001b[0;36m<module>\u001b[0;34m\u001b[0m\n",
      "\u001b[0;32m<ipython-input-23-2426bf2e9067>\u001b[0m in \u001b[0;36minner\u001b[0;34m(*args, **kwargs)\u001b[0m\n\u001b[1;32m     30\u001b[0m             \u001b[0mtimer\u001b[0m\u001b[0;34m.\u001b[0m\u001b[0mstart\u001b[0m\u001b[0;34m(\u001b[0m\u001b[0;34m)\u001b[0m\u001b[0;34m\u001b[0m\u001b[0;34m\u001b[0m\u001b[0m\n\u001b[1;32m     31\u001b[0m             \u001b[0;32mtry\u001b[0m\u001b[0;34m:\u001b[0m\u001b[0;34m\u001b[0m\u001b[0;34m\u001b[0m\u001b[0m\n\u001b[0;32m---> 32\u001b[0;31m                 \u001b[0mresult\u001b[0m \u001b[0;34m=\u001b[0m \u001b[0mfn\u001b[0m\u001b[0;34m(\u001b[0m\u001b[0;34m*\u001b[0m\u001b[0margs\u001b[0m\u001b[0;34m,\u001b[0m \u001b[0;34m**\u001b[0m\u001b[0mkwargs\u001b[0m\u001b[0;34m)\u001b[0m\u001b[0;34m\u001b[0m\u001b[0;34m\u001b[0m\u001b[0m\n\u001b[0m\u001b[1;32m     33\u001b[0m             \u001b[0;32mfinally\u001b[0m\u001b[0;34m:\u001b[0m\u001b[0;34m\u001b[0m\u001b[0;34m\u001b[0m\u001b[0m\n\u001b[1;32m     34\u001b[0m                 \u001b[0mtimer\u001b[0m\u001b[0;34m.\u001b[0m\u001b[0mcancel\u001b[0m\u001b[0;34m(\u001b[0m\u001b[0;34m)\u001b[0m\u001b[0;34m\u001b[0m\u001b[0;34m\u001b[0m\u001b[0m\n",
      "\u001b[0;32m<ipython-input-33-f77710b4e449>\u001b[0m in \u001b[0;36mrun\u001b[0;34m(gmm)\u001b[0m\n\u001b[1;32m     28\u001b[0m \u001b[0;34m\u001b[0m\u001b[0m\n\u001b[1;32m     29\u001b[0m         \u001b[0;34m\"\"\"Maximization step\"\"\"\u001b[0m\u001b[0;34m\u001b[0m\u001b[0;34m\u001b[0m\u001b[0m\n\u001b[0;32m---> 30\u001b[0;31m         \u001b[0mmaximization\u001b[0m\u001b[0;34m(\u001b[0m\u001b[0mgmm\u001b[0m\u001b[0;34m)\u001b[0m\u001b[0;34m\u001b[0m\u001b[0;34m\u001b[0m\u001b[0m\n\u001b[0m\u001b[1;32m     31\u001b[0m \u001b[0;34m\u001b[0m\u001b[0m\n\u001b[1;32m     32\u001b[0m         \u001b[0;34m\"\"\"compute the new mixture normalization for all the samples\"\"\"\u001b[0m\u001b[0;34m\u001b[0m\u001b[0;34m\u001b[0m\u001b[0m\n",
      "\u001b[0;32m<ipython-input-30-351c3115e567>\u001b[0m in \u001b[0;36mmaximization\u001b[0;34m(gmm)\u001b[0m\n\u001b[1;32m     26\u001b[0m     \u001b[0mgmm\u001b[0m\u001b[0;34m.\u001b[0m\u001b[0mZ\u001b[0m \u001b[0;34m=\u001b[0m \u001b[0margmax\u001b[0m\u001b[0;34m(\u001b[0m\u001b[0mgmm\u001b[0m\u001b[0;34m.\u001b[0m\u001b[0mr_ik\u001b[0m\u001b[0;34m,\u001b[0m \u001b[0maxis\u001b[0m\u001b[0;34m=\u001b[0m\u001b[0;36m1\u001b[0m\u001b[0;34m)\u001b[0m\u001b[0;34m\u001b[0m\u001b[0;34m\u001b[0m\u001b[0m\n\u001b[1;32m     27\u001b[0m     \u001b[0mgmm\u001b[0m\u001b[0;34m.\u001b[0m\u001b[0mpi\u001b[0m \u001b[0;34m=\u001b[0m \u001b[0;34m(\u001b[0m\u001b[0;36m1.0\u001b[0m\u001b[0;34m/\u001b[0m\u001b[0mn\u001b[0m\u001b[0;34m)\u001b[0m\u001b[0;34m*\u001b[0m\u001b[0msum\u001b[0m\u001b[0;34m(\u001b[0m\u001b[0mgmm\u001b[0m\u001b[0;34m.\u001b[0m\u001b[0mr_ik\u001b[0m\u001b[0;34m,\u001b[0m \u001b[0maxis\u001b[0m\u001b[0;34m=\u001b[0m\u001b[0;36m0\u001b[0m\u001b[0;34m)\u001b[0m\u001b[0;34m\u001b[0m\u001b[0;34m\u001b[0m\u001b[0m\n\u001b[0;32m---> 28\u001b[0;31m     \u001b[0mgmm\u001b[0m\u001b[0;34m.\u001b[0m\u001b[0mmu\u001b[0m \u001b[0;34m=\u001b[0m \u001b[0mdot\u001b[0m\u001b[0;34m(\u001b[0m\u001b[0;36m1.0\u001b[0m\u001b[0;34m/\u001b[0m\u001b[0mgmm\u001b[0m\u001b[0;34m.\u001b[0m\u001b[0mpi\u001b[0m\u001b[0;34m,\u001b[0m \u001b[0mgmm\u001b[0m\u001b[0;34m.\u001b[0m\u001b[0mr_ik\u001b[0m\u001b[0;34m.\u001b[0m\u001b[0mT\u001b[0m\u001b[0;34m*\u001b[0m\u001b[0mgmm\u001b[0m\u001b[0;34m.\u001b[0m\u001b[0mX\u001b[0m\u001b[0;34m)\u001b[0m\u001b[0;34m\u001b[0m\u001b[0;34m\u001b[0m\u001b[0m\n\u001b[0m\u001b[1;32m     29\u001b[0m     \u001b[0;32mfor\u001b[0m \u001b[0mi\u001b[0m \u001b[0;32min\u001b[0m \u001b[0mrange\u001b[0m\u001b[0;34m(\u001b[0m\u001b[0mk\u001b[0m\u001b[0;34m)\u001b[0m\u001b[0;34m:\u001b[0m\u001b[0;34m\u001b[0m\u001b[0;34m\u001b[0m\u001b[0m\n\u001b[1;32m     30\u001b[0m         \u001b[0mx\u001b[0m \u001b[0;34m=\u001b[0m \u001b[0mgmm\u001b[0m\u001b[0;34m.\u001b[0m\u001b[0mX\u001b[0m\u001b[0;34m[\u001b[0m\u001b[0;34m:\u001b[0m\u001b[0;34m,\u001b[0m \u001b[0mi\u001b[0m\u001b[0;34m]\u001b[0m \u001b[0;34m-\u001b[0m \u001b[0mgmm\u001b[0m\u001b[0;34m.\u001b[0m\u001b[0mmu\u001b[0m\u001b[0;34m[\u001b[0m\u001b[0mi\u001b[0m\u001b[0;34m]\u001b[0m\u001b[0;34m\u001b[0m\u001b[0;34m\u001b[0m\u001b[0m\n",
      "\u001b[0;31mValueError\u001b[0m: operands could not be broadcast together with shapes (20,40) (7063,3) "
     ]
    }
   ],
   "source": [
    "%%time\n",
    "\n",
    "# Uniformly sample pixels in the blurred image\n",
    "samples_idx = choice(n_pixels, int(n_pixels/subsample_factor), replace=False)\n",
    "training_samples = img_vector_blurred[samples_idx,:]\n",
    "\n",
    "# Train the GMM\n",
    "my_gmm_classif = GMM(training_samples, n_components, reg_covar=5e-3, tol=1e-4, max_iter=1000)\n",
    "run(my_gmm_classif)\n",
    "my_gmm_classif.plotLogLikelihood()"
   ]
  },
  {
   "cell_type": "markdown",
   "metadata": {
    "deletable": false,
    "editable": false,
    "nbgrader": {
     "cell_type": "markdown",
     "checksum": "e0c5571c6e88952e3fe248c0629bf26e",
     "grade": false,
     "grade_id": "cell-f1a05d217408d390",
     "locked": true,
     "schema_version": 3,
     "solution": false,
     "task": false
    }
   },
   "source": [
    "<div class=\"alert alert-info\" role=\"alert\">\n",
    "    <b style=\"color:green;\">&#9745;</b> <b>Run</b> this cell to visualize the GMM mean distribution over the RGB spectrum histogram of the image.\n",
    "</div> "
   ]
  },
  {
   "cell_type": "code",
   "execution_count": 40,
   "metadata": {
    "deletable": false,
    "editable": false,
    "nbgrader": {
     "cell_type": "code",
     "checksum": "7bf8e3413b7dbcc7266113d9ba76615c",
     "grade": false,
     "grade_id": "cell-b180f9034e8a058b",
     "locked": true,
     "schema_version": 3,
     "solution": false,
     "task": false
    }
   },
   "outputs": [
    {
     "name": "stderr",
     "output_type": "stream",
     "text": [
      "/Users/wasifchowdhury/venv/lib/python3.7/site-packages/ipykernel_launcher.py:9: RuntimeWarning: invalid value encountered in double_scalars\n",
      "  if __name__ == '__main__':\n"
     ]
    },
    {
     "data": {
      "image/png": "[encoded data removed]",
      "text/plain": [
       "<Figure size 720x720 with 1 Axes>"
      ]
     },
     "metadata": {
      "needs_background": "light"
     },
     "output_type": "display_data"
    }
   ],
   "source": [
    "hist, bin_edges = histogram(norm(img_vector_blurred[:,:n_channel]/amax(norm(img_matrix_source, 2, axis = 2)), 2, axis=1), \n",
    "                            bins=100)\n",
    "bin_centers = 0.5*(bin_edges[:-1] + bin_edges[1:])\n",
    "\n",
    "plt.figure(figsize=(10,10))\n",
    "for c in range(my_gmm_classif.n_components):\n",
    "    mu_norm = norm(my_gmm_classif.mu[c,:n_channel]/amax(norm(img_matrix_source, 2, axis = 2)), 2)\n",
    "    mu_color = my_gmm_classif.mu[c,:n_channel]\n",
    "    mu_relative_weight = (4*(my_gmm_classif.weight[c]+amax(my_gmm_classif.weight))/amax(my_gmm_classif.weight)).astype(int32)\n",
    "    plt.plot([mu_norm, mu_norm], [0,amax(hist)], alpha=0.65, c=mu_color, linewidth = mu_relative_weight, label='Components: {}'.format(c))\n",
    "\n",
    "plt.plot(bin_centers, hist , '-k', label='Norm of the color')\n",
    "plt.legend(loc='upper left', bbox_to_anchor=(1.05, 1.))\n",
    "plt.ylabel('Number of pixels')\n",
    "plt.xlabel('Spectrum norm')\n",
    "plt.title('Histogram of the image spectrum with mixture components mean and weight')\n",
    "plt.show()"
   ]
  },
  {
   "cell_type": "markdown",
   "metadata": {
    "deletable": false,
    "editable": false,
    "nbgrader": {
     "cell_type": "markdown",
     "checksum": "86add20877b765ec9ac71c1f2a364a8d",
     "grade": false,
     "grade_id": "cell-396a979cb69e9539",
     "locked": true,
     "schema_version": 3,
     "solution": false,
     "task": false
    }
   },
   "source": [
    "<div class=\"alert alert-info\" role=\"alert\">\n",
    "    <b style=\"color:green;\">&#9745;</b> <b>Run</b> the cell to predict and plot the labels of every pixel in your image and save the result.\n",
    "</div>"
   ]
  },
  {
   "cell_type": "code",
   "execution_count": 41,
   "metadata": {
    "deletable": false,
    "editable": false,
    "nbgrader": {
     "cell_type": "code",
     "checksum": "242c681099bb48154782038db37c1c21",
     "grade": false,
     "grade_id": "cell-021d8e2d35c165f5",
     "locked": true,
     "schema_version": 3,
     "solution": false,
     "task": false
    }
   },
   "outputs": [
    {
     "name": "stdout",
     "output_type": "stream",
     "text": [
      "n, d:  (706300, 3)\n",
      "mu (10, 3)\n",
      "cov_shape (10, 3, 3)\n",
      "r_ik shape (40, 10)\n",
      "Normalization ok\n",
      "(40, 10) expectation step\n"
     ]
    },
    {
     "ename": "ValueError",
     "evalue": "operands could not be broadcast together with shapes (10,40) (706300,3) ",
     "output_type": "error",
     "traceback": [
      "\u001b[0;31m---------------------------------------------------------------------------\u001b[0m",
      "\u001b[0;31mValueError\u001b[0m                                Traceback (most recent call last)",
      "\u001b[0;32m<ipython-input-41-edbb29f08d31>\u001b[0m in \u001b[0;36m<module>\u001b[0;34m\u001b[0m\n\u001b[1;32m      2\u001b[0m \u001b[0;34m\u001b[0m\u001b[0m\n\u001b[1;32m      3\u001b[0m \u001b[0mtest_samples\u001b[0m \u001b[0;34m=\u001b[0m \u001b[0mimg_vector_blurred\u001b[0m\u001b[0;34m\u001b[0m\u001b[0;34m\u001b[0m\u001b[0m\n\u001b[0;32m----> 4\u001b[0;31m \u001b[0mlabels\u001b[0m \u001b[0;34m=\u001b[0m \u001b[0mpredict\u001b[0m\u001b[0;34m(\u001b[0m\u001b[0mmy_gmm_classif\u001b[0m\u001b[0;34m,\u001b[0m\u001b[0mtest_samples\u001b[0m\u001b[0;34m)\u001b[0m\u001b[0;34m\u001b[0m\u001b[0;34m\u001b[0m\u001b[0m\n\u001b[0m\u001b[1;32m      5\u001b[0m \u001b[0;34m\u001b[0m\u001b[0m\n\u001b[1;32m      6\u001b[0m \u001b[0mimg_matrix_segmented\u001b[0m \u001b[0;34m=\u001b[0m \u001b[0mmy_gmm_classif\u001b[0m\u001b[0;34m.\u001b[0m\u001b[0mmu\u001b[0m\u001b[0;34m[\u001b[0m\u001b[0mlabels\u001b[0m\u001b[0;34m,\u001b[0m\u001b[0;34m:\u001b[0m\u001b[0;34m]\u001b[0m\u001b[0;34m.\u001b[0m\u001b[0mreshape\u001b[0m\u001b[0;34m(\u001b[0m\u001b[0;34m(\u001b[0m\u001b[0mn_height\u001b[0m\u001b[0;34m,\u001b[0m\u001b[0mn_width\u001b[0m\u001b[0;34m,\u001b[0m\u001b[0mn_channel\u001b[0m\u001b[0;34m)\u001b[0m\u001b[0;34m)\u001b[0m\u001b[0;34m\u001b[0m\u001b[0;34m\u001b[0m\u001b[0m\n",
      "\u001b[0;32m<ipython-input-32-9bc568ce3d13>\u001b[0m in \u001b[0;36mpredict\u001b[0;34m(gmm, Y)\u001b[0m\n\u001b[1;32m     34\u001b[0m \u001b[0;34m\u001b[0m\u001b[0m\n\u001b[1;32m     35\u001b[0m         \u001b[0;34m\"\"\"Maximization step\"\"\"\u001b[0m\u001b[0;34m\u001b[0m\u001b[0;34m\u001b[0m\u001b[0m\n\u001b[0;32m---> 36\u001b[0;31m         \u001b[0mmaximization\u001b[0m\u001b[0;34m(\u001b[0m\u001b[0mgmm\u001b[0m\u001b[0;34m)\u001b[0m\u001b[0;34m\u001b[0m\u001b[0;34m\u001b[0m\u001b[0m\n\u001b[0m\u001b[1;32m     37\u001b[0m \u001b[0;34m\u001b[0m\u001b[0m\n\u001b[1;32m     38\u001b[0m         \u001b[0;34m\"\"\"compute the new mixture normalization for all the samples\"\"\"\u001b[0m\u001b[0;34m\u001b[0m\u001b[0;34m\u001b[0m\u001b[0m\n",
      "\u001b[0;32m<ipython-input-30-351c3115e567>\u001b[0m in \u001b[0;36mmaximization\u001b[0;34m(gmm)\u001b[0m\n\u001b[1;32m     26\u001b[0m     \u001b[0mgmm\u001b[0m\u001b[0;34m.\u001b[0m\u001b[0mZ\u001b[0m \u001b[0;34m=\u001b[0m \u001b[0margmax\u001b[0m\u001b[0;34m(\u001b[0m\u001b[0mgmm\u001b[0m\u001b[0;34m.\u001b[0m\u001b[0mr_ik\u001b[0m\u001b[0;34m,\u001b[0m \u001b[0maxis\u001b[0m\u001b[0;34m=\u001b[0m\u001b[0;36m1\u001b[0m\u001b[0;34m)\u001b[0m\u001b[0;34m\u001b[0m\u001b[0;34m\u001b[0m\u001b[0m\n\u001b[1;32m     27\u001b[0m     \u001b[0mgmm\u001b[0m\u001b[0;34m.\u001b[0m\u001b[0mpi\u001b[0m \u001b[0;34m=\u001b[0m \u001b[0;34m(\u001b[0m\u001b[0;36m1.0\u001b[0m\u001b[0;34m/\u001b[0m\u001b[0mn\u001b[0m\u001b[0;34m)\u001b[0m\u001b[0;34m*\u001b[0m\u001b[0msum\u001b[0m\u001b[0;34m(\u001b[0m\u001b[0mgmm\u001b[0m\u001b[0;34m.\u001b[0m\u001b[0mr_ik\u001b[0m\u001b[0;34m,\u001b[0m \u001b[0maxis\u001b[0m\u001b[0;34m=\u001b[0m\u001b[0;36m0\u001b[0m\u001b[0;34m)\u001b[0m\u001b[0;34m\u001b[0m\u001b[0;34m\u001b[0m\u001b[0m\n\u001b[0;32m---> 28\u001b[0;31m     \u001b[0mgmm\u001b[0m\u001b[0;34m.\u001b[0m\u001b[0mmu\u001b[0m \u001b[0;34m=\u001b[0m \u001b[0mdot\u001b[0m\u001b[0;34m(\u001b[0m\u001b[0;36m1.0\u001b[0m\u001b[0;34m/\u001b[0m\u001b[0mgmm\u001b[0m\u001b[0;34m.\u001b[0m\u001b[0mpi\u001b[0m\u001b[0;34m,\u001b[0m \u001b[0mgmm\u001b[0m\u001b[0;34m.\u001b[0m\u001b[0mr_ik\u001b[0m\u001b[0;34m.\u001b[0m\u001b[0mT\u001b[0m\u001b[0;34m*\u001b[0m\u001b[0mgmm\u001b[0m\u001b[0;34m.\u001b[0m\u001b[0mX\u001b[0m\u001b[0;34m)\u001b[0m\u001b[0;34m\u001b[0m\u001b[0;34m\u001b[0m\u001b[0m\n\u001b[0m\u001b[1;32m     29\u001b[0m     \u001b[0;32mfor\u001b[0m \u001b[0mi\u001b[0m \u001b[0;32min\u001b[0m \u001b[0mrange\u001b[0m\u001b[0;34m(\u001b[0m\u001b[0mk\u001b[0m\u001b[0;34m)\u001b[0m\u001b[0;34m:\u001b[0m\u001b[0;34m\u001b[0m\u001b[0;34m\u001b[0m\u001b[0m\n\u001b[1;32m     30\u001b[0m         \u001b[0mx\u001b[0m \u001b[0;34m=\u001b[0m \u001b[0mgmm\u001b[0m\u001b[0;34m.\u001b[0m\u001b[0mX\u001b[0m\u001b[0;34m[\u001b[0m\u001b[0;34m:\u001b[0m\u001b[0;34m,\u001b[0m \u001b[0mi\u001b[0m\u001b[0;34m]\u001b[0m \u001b[0;34m-\u001b[0m \u001b[0mgmm\u001b[0m\u001b[0;34m.\u001b[0m\u001b[0mmu\u001b[0m\u001b[0;34m[\u001b[0m\u001b[0mi\u001b[0m\u001b[0;34m]\u001b[0m\u001b[0;34m\u001b[0m\u001b[0;34m\u001b[0m\u001b[0m\n",
      "\u001b[0;31mValueError\u001b[0m: operands could not be broadcast together with shapes (10,40) (706300,3) "
     ]
    }
   ],
   "source": [
    "colors = cm.viridis(linspace(0, 1, my_gmm_classif.n_components))\n",
    "\n",
    "test_samples = img_vector_blurred\n",
    "labels = predict(my_gmm_classif,test_samples)\n",
    "\n",
    "img_matrix_segmented = my_gmm_classif.mu[labels,:].reshape((n_height,n_width,n_channel))\n",
    "img_matrix_label = colors[labels,:].reshape((n_height,n_width,n_channel+1))\n",
    "\n",
    "plt.figure(figsize=(15,10))\n",
    "plt.subplot(131)\n",
    "plt.imshow(img_matrix_source, origin='upper')\n",
    "plt.title('Source image')\n",
    "plt.axis('off')\n",
    "plt.subplot(132)\n",
    "plt.imshow(img_matrix_label, interpolation='nearest',cmap = cm.viridis)\n",
    "plt.title('Label image')\n",
    "plt.axis('off')\n",
    "plt.subplot(133)\n",
    "plt.imshow(img_matrix_segmented, interpolation='nearest')\n",
    "plt.title('Segmented image')\n",
    "plt.axis('off')\n",
    "plt.tight_layout()\n",
    "plt.savefig(path.join(resultsDirName,''.join([img_name, '_result', img_ext])), bbox_inches='tight',  transparent=True, pad_inches=0)\n",
    "plt.show()"
   ]
  },
  {
   "cell_type": "code",
   "execution_count": null,
   "metadata": {},
   "outputs": [],
   "source": []
  }
 ],
 "metadata": {
  "colab": {
   "name": "ECSE443_A2.ipynb",
   "provenance": []
  },
  "kernelspec": {
   "display_name": "Python 3",
   "language": "python",
   "name": "python3"
  },
  "language_info": {
   "codemirror_mode": {
    "name": "ipython",
    "version": 3
   },
   "file_extension": ".py",
   "mimetype": "text/x-python",
   "name": "python",
   "nbconvert_exporter": "python",
   "pygments_lexer": "ipython3",
   "version": "3.7.4"
  }
 },
 "nbformat": 4,
 "nbformat_minor": 1
}
